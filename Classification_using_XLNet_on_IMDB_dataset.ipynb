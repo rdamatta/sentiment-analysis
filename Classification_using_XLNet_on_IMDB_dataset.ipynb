{
  "nbformat": 4,
  "nbformat_minor": 0,
  "metadata": {
    "accelerator": "GPU",
    "colab": {
      "name": "Classification using XLNet on IMDB dataset.ipynb",
      "provenance": [],
      "collapsed_sections": []
    },
    "kernelspec": {
      "display_name": "Python 3",
      "name": "python3"
    },
    "widgets": {
      "application/vnd.jupyter.widget-state+json": {
        "37af494f831e46d183709bc76c229d36": {
          "model_module": "@jupyter-widgets/controls",
          "model_name": "HBoxModel",
          "state": {
            "_view_name": "HBoxView",
            "_dom_classes": [],
            "_model_name": "HBoxModel",
            "_view_module": "@jupyter-widgets/controls",
            "_model_module_version": "1.5.0",
            "_view_count": null,
            "_view_module_version": "1.5.0",
            "box_style": "",
            "layout": "IPY_MODEL_82eb219ddbb242898d5cd6232ffc3f35",
            "_model_module": "@jupyter-widgets/controls",
            "children": [
              "IPY_MODEL_aabc8a747fe843c49588c4f675169c6c",
              "IPY_MODEL_ac54dac7e1a340688ebd36e03688d06e"
            ]
          }
        },
        "82eb219ddbb242898d5cd6232ffc3f35": {
          "model_module": "@jupyter-widgets/base",
          "model_name": "LayoutModel",
          "state": {
            "_view_name": "LayoutView",
            "grid_template_rows": null,
            "right": null,
            "justify_content": null,
            "_view_module": "@jupyter-widgets/base",
            "overflow": null,
            "_model_module_version": "1.2.0",
            "_view_count": null,
            "flex_flow": null,
            "width": null,
            "min_width": null,
            "border": null,
            "align_items": null,
            "bottom": null,
            "_model_module": "@jupyter-widgets/base",
            "top": null,
            "grid_column": null,
            "overflow_y": null,
            "overflow_x": null,
            "grid_auto_flow": null,
            "grid_area": null,
            "grid_template_columns": null,
            "flex": null,
            "_model_name": "LayoutModel",
            "justify_items": null,
            "grid_row": null,
            "max_height": null,
            "align_content": null,
            "visibility": null,
            "align_self": null,
            "height": null,
            "min_height": null,
            "padding": null,
            "grid_auto_rows": null,
            "grid_gap": null,
            "max_width": null,
            "order": null,
            "_view_module_version": "1.2.0",
            "grid_template_areas": null,
            "object_position": null,
            "object_fit": null,
            "grid_auto_columns": null,
            "margin": null,
            "display": null,
            "left": null
          }
        },
        "aabc8a747fe843c49588c4f675169c6c": {
          "model_module": "@jupyter-widgets/controls",
          "model_name": "FloatProgressModel",
          "state": {
            "_view_name": "ProgressView",
            "style": "IPY_MODEL_16275139dbe54ed3869373d15ba5423d",
            "_dom_classes": [],
            "description": "Downloading: 100%",
            "_model_name": "FloatProgressModel",
            "bar_style": "success",
            "max": 760,
            "_view_module": "@jupyter-widgets/controls",
            "_model_module_version": "1.5.0",
            "value": 760,
            "_view_count": null,
            "_view_module_version": "1.5.0",
            "orientation": "horizontal",
            "min": 0,
            "description_tooltip": null,
            "_model_module": "@jupyter-widgets/controls",
            "layout": "IPY_MODEL_5b13cd8fc69d40c190e9fac2882d11cb"
          }
        },
        "ac54dac7e1a340688ebd36e03688d06e": {
          "model_module": "@jupyter-widgets/controls",
          "model_name": "HTMLModel",
          "state": {
            "_view_name": "HTMLView",
            "style": "IPY_MODEL_a2e4f16d7ecf4741b8a6081d5441bbe1",
            "_dom_classes": [],
            "description": "",
            "_model_name": "HTMLModel",
            "placeholder": "​",
            "_view_module": "@jupyter-widgets/controls",
            "_model_module_version": "1.5.0",
            "value": " 760/760 [00:00&lt;00:00, 11.3kB/s]",
            "_view_count": null,
            "_view_module_version": "1.5.0",
            "description_tooltip": null,
            "_model_module": "@jupyter-widgets/controls",
            "layout": "IPY_MODEL_ec1fccdc13994bb68fd5aa18e513afd9"
          }
        },
        "16275139dbe54ed3869373d15ba5423d": {
          "model_module": "@jupyter-widgets/controls",
          "model_name": "ProgressStyleModel",
          "state": {
            "_view_name": "StyleView",
            "_model_name": "ProgressStyleModel",
            "description_width": "initial",
            "_view_module": "@jupyter-widgets/base",
            "_model_module_version": "1.5.0",
            "_view_count": null,
            "_view_module_version": "1.2.0",
            "bar_color": null,
            "_model_module": "@jupyter-widgets/controls"
          }
        },
        "5b13cd8fc69d40c190e9fac2882d11cb": {
          "model_module": "@jupyter-widgets/base",
          "model_name": "LayoutModel",
          "state": {
            "_view_name": "LayoutView",
            "grid_template_rows": null,
            "right": null,
            "justify_content": null,
            "_view_module": "@jupyter-widgets/base",
            "overflow": null,
            "_model_module_version": "1.2.0",
            "_view_count": null,
            "flex_flow": null,
            "width": null,
            "min_width": null,
            "border": null,
            "align_items": null,
            "bottom": null,
            "_model_module": "@jupyter-widgets/base",
            "top": null,
            "grid_column": null,
            "overflow_y": null,
            "overflow_x": null,
            "grid_auto_flow": null,
            "grid_area": null,
            "grid_template_columns": null,
            "flex": null,
            "_model_name": "LayoutModel",
            "justify_items": null,
            "grid_row": null,
            "max_height": null,
            "align_content": null,
            "visibility": null,
            "align_self": null,
            "height": null,
            "min_height": null,
            "padding": null,
            "grid_auto_rows": null,
            "grid_gap": null,
            "max_width": null,
            "order": null,
            "_view_module_version": "1.2.0",
            "grid_template_areas": null,
            "object_position": null,
            "object_fit": null,
            "grid_auto_columns": null,
            "margin": null,
            "display": null,
            "left": null
          }
        },
        "a2e4f16d7ecf4741b8a6081d5441bbe1": {
          "model_module": "@jupyter-widgets/controls",
          "model_name": "DescriptionStyleModel",
          "state": {
            "_view_name": "StyleView",
            "_model_name": "DescriptionStyleModel",
            "description_width": "",
            "_view_module": "@jupyter-widgets/base",
            "_model_module_version": "1.5.0",
            "_view_count": null,
            "_view_module_version": "1.2.0",
            "_model_module": "@jupyter-widgets/controls"
          }
        },
        "ec1fccdc13994bb68fd5aa18e513afd9": {
          "model_module": "@jupyter-widgets/base",
          "model_name": "LayoutModel",
          "state": {
            "_view_name": "LayoutView",
            "grid_template_rows": null,
            "right": null,
            "justify_content": null,
            "_view_module": "@jupyter-widgets/base",
            "overflow": null,
            "_model_module_version": "1.2.0",
            "_view_count": null,
            "flex_flow": null,
            "width": null,
            "min_width": null,
            "border": null,
            "align_items": null,
            "bottom": null,
            "_model_module": "@jupyter-widgets/base",
            "top": null,
            "grid_column": null,
            "overflow_y": null,
            "overflow_x": null,
            "grid_auto_flow": null,
            "grid_area": null,
            "grid_template_columns": null,
            "flex": null,
            "_model_name": "LayoutModel",
            "justify_items": null,
            "grid_row": null,
            "max_height": null,
            "align_content": null,
            "visibility": null,
            "align_self": null,
            "height": null,
            "min_height": null,
            "padding": null,
            "grid_auto_rows": null,
            "grid_gap": null,
            "max_width": null,
            "order": null,
            "_view_module_version": "1.2.0",
            "grid_template_areas": null,
            "object_position": null,
            "object_fit": null,
            "grid_auto_columns": null,
            "margin": null,
            "display": null,
            "left": null
          }
        },
        "c6375431175f4d50a53a520b6a0d8cc2": {
          "model_module": "@jupyter-widgets/controls",
          "model_name": "HBoxModel",
          "state": {
            "_view_name": "HBoxView",
            "_dom_classes": [],
            "_model_name": "HBoxModel",
            "_view_module": "@jupyter-widgets/controls",
            "_model_module_version": "1.5.0",
            "_view_count": null,
            "_view_module_version": "1.5.0",
            "box_style": "",
            "layout": "IPY_MODEL_d7cf5a5fdb084e2a90ccb67ffcb377c6",
            "_model_module": "@jupyter-widgets/controls",
            "children": [
              "IPY_MODEL_5d3bbd1096b1426eaeb726be6481025e",
              "IPY_MODEL_43bd7fabba0443599fd489ce9963bf58"
            ]
          }
        },
        "d7cf5a5fdb084e2a90ccb67ffcb377c6": {
          "model_module": "@jupyter-widgets/base",
          "model_name": "LayoutModel",
          "state": {
            "_view_name": "LayoutView",
            "grid_template_rows": null,
            "right": null,
            "justify_content": null,
            "_view_module": "@jupyter-widgets/base",
            "overflow": null,
            "_model_module_version": "1.2.0",
            "_view_count": null,
            "flex_flow": null,
            "width": null,
            "min_width": null,
            "border": null,
            "align_items": null,
            "bottom": null,
            "_model_module": "@jupyter-widgets/base",
            "top": null,
            "grid_column": null,
            "overflow_y": null,
            "overflow_x": null,
            "grid_auto_flow": null,
            "grid_area": null,
            "grid_template_columns": null,
            "flex": null,
            "_model_name": "LayoutModel",
            "justify_items": null,
            "grid_row": null,
            "max_height": null,
            "align_content": null,
            "visibility": null,
            "align_self": null,
            "height": null,
            "min_height": null,
            "padding": null,
            "grid_auto_rows": null,
            "grid_gap": null,
            "max_width": null,
            "order": null,
            "_view_module_version": "1.2.0",
            "grid_template_areas": null,
            "object_position": null,
            "object_fit": null,
            "grid_auto_columns": null,
            "margin": null,
            "display": null,
            "left": null
          }
        },
        "5d3bbd1096b1426eaeb726be6481025e": {
          "model_module": "@jupyter-widgets/controls",
          "model_name": "FloatProgressModel",
          "state": {
            "_view_name": "ProgressView",
            "style": "IPY_MODEL_fd661fa1b0104a7eb8fbc64f7af69a29",
            "_dom_classes": [],
            "description": "Downloading: 100%",
            "_model_name": "FloatProgressModel",
            "bar_style": "success",
            "max": 798011,
            "_view_module": "@jupyter-widgets/controls",
            "_model_module_version": "1.5.0",
            "value": 798011,
            "_view_count": null,
            "_view_module_version": "1.5.0",
            "orientation": "horizontal",
            "min": 0,
            "description_tooltip": null,
            "_model_module": "@jupyter-widgets/controls",
            "layout": "IPY_MODEL_f333e604f8f340ed8401f022c3cfab0d"
          }
        },
        "43bd7fabba0443599fd489ce9963bf58": {
          "model_module": "@jupyter-widgets/controls",
          "model_name": "HTMLModel",
          "state": {
            "_view_name": "HTMLView",
            "style": "IPY_MODEL_c50465dd0d204c9cb484b498b990d659",
            "_dom_classes": [],
            "description": "",
            "_model_name": "HTMLModel",
            "placeholder": "​",
            "_view_module": "@jupyter-widgets/controls",
            "_model_module_version": "1.5.0",
            "value": " 798k/798k [00:38&lt;00:00, 20.7kB/s]",
            "_view_count": null,
            "_view_module_version": "1.5.0",
            "description_tooltip": null,
            "_model_module": "@jupyter-widgets/controls",
            "layout": "IPY_MODEL_dd8947fe624148b4852b342bccfd520c"
          }
        },
        "fd661fa1b0104a7eb8fbc64f7af69a29": {
          "model_module": "@jupyter-widgets/controls",
          "model_name": "ProgressStyleModel",
          "state": {
            "_view_name": "StyleView",
            "_model_name": "ProgressStyleModel",
            "description_width": "initial",
            "_view_module": "@jupyter-widgets/base",
            "_model_module_version": "1.5.0",
            "_view_count": null,
            "_view_module_version": "1.2.0",
            "bar_color": null,
            "_model_module": "@jupyter-widgets/controls"
          }
        },
        "f333e604f8f340ed8401f022c3cfab0d": {
          "model_module": "@jupyter-widgets/base",
          "model_name": "LayoutModel",
          "state": {
            "_view_name": "LayoutView",
            "grid_template_rows": null,
            "right": null,
            "justify_content": null,
            "_view_module": "@jupyter-widgets/base",
            "overflow": null,
            "_model_module_version": "1.2.0",
            "_view_count": null,
            "flex_flow": null,
            "width": null,
            "min_width": null,
            "border": null,
            "align_items": null,
            "bottom": null,
            "_model_module": "@jupyter-widgets/base",
            "top": null,
            "grid_column": null,
            "overflow_y": null,
            "overflow_x": null,
            "grid_auto_flow": null,
            "grid_area": null,
            "grid_template_columns": null,
            "flex": null,
            "_model_name": "LayoutModel",
            "justify_items": null,
            "grid_row": null,
            "max_height": null,
            "align_content": null,
            "visibility": null,
            "align_self": null,
            "height": null,
            "min_height": null,
            "padding": null,
            "grid_auto_rows": null,
            "grid_gap": null,
            "max_width": null,
            "order": null,
            "_view_module_version": "1.2.0",
            "grid_template_areas": null,
            "object_position": null,
            "object_fit": null,
            "grid_auto_columns": null,
            "margin": null,
            "display": null,
            "left": null
          }
        },
        "c50465dd0d204c9cb484b498b990d659": {
          "model_module": "@jupyter-widgets/controls",
          "model_name": "DescriptionStyleModel",
          "state": {
            "_view_name": "StyleView",
            "_model_name": "DescriptionStyleModel",
            "description_width": "",
            "_view_module": "@jupyter-widgets/base",
            "_model_module_version": "1.5.0",
            "_view_count": null,
            "_view_module_version": "1.2.0",
            "_model_module": "@jupyter-widgets/controls"
          }
        },
        "dd8947fe624148b4852b342bccfd520c": {
          "model_module": "@jupyter-widgets/base",
          "model_name": "LayoutModel",
          "state": {
            "_view_name": "LayoutView",
            "grid_template_rows": null,
            "right": null,
            "justify_content": null,
            "_view_module": "@jupyter-widgets/base",
            "overflow": null,
            "_model_module_version": "1.2.0",
            "_view_count": null,
            "flex_flow": null,
            "width": null,
            "min_width": null,
            "border": null,
            "align_items": null,
            "bottom": null,
            "_model_module": "@jupyter-widgets/base",
            "top": null,
            "grid_column": null,
            "overflow_y": null,
            "overflow_x": null,
            "grid_auto_flow": null,
            "grid_area": null,
            "grid_template_columns": null,
            "flex": null,
            "_model_name": "LayoutModel",
            "justify_items": null,
            "grid_row": null,
            "max_height": null,
            "align_content": null,
            "visibility": null,
            "align_self": null,
            "height": null,
            "min_height": null,
            "padding": null,
            "grid_auto_rows": null,
            "grid_gap": null,
            "max_width": null,
            "order": null,
            "_view_module_version": "1.2.0",
            "grid_template_areas": null,
            "object_position": null,
            "object_fit": null,
            "grid_auto_columns": null,
            "margin": null,
            "display": null,
            "left": null
          }
        },
        "684096d42d854ad69c4028f1e7488583": {
          "model_module": "@jupyter-widgets/controls",
          "model_name": "HBoxModel",
          "state": {
            "_view_name": "HBoxView",
            "_dom_classes": [],
            "_model_name": "HBoxModel",
            "_view_module": "@jupyter-widgets/controls",
            "_model_module_version": "1.5.0",
            "_view_count": null,
            "_view_module_version": "1.5.0",
            "box_style": "",
            "layout": "IPY_MODEL_e6e5334456ec441b8d166635aaa0c2d2",
            "_model_module": "@jupyter-widgets/controls",
            "children": [
              "IPY_MODEL_a1dab70309fc460ea7aaab2493e0435c",
              "IPY_MODEL_17b627e212354f9b99cdf546a5e02143"
            ]
          }
        },
        "e6e5334456ec441b8d166635aaa0c2d2": {
          "model_module": "@jupyter-widgets/base",
          "model_name": "LayoutModel",
          "state": {
            "_view_name": "LayoutView",
            "grid_template_rows": null,
            "right": null,
            "justify_content": null,
            "_view_module": "@jupyter-widgets/base",
            "overflow": null,
            "_model_module_version": "1.2.0",
            "_view_count": null,
            "flex_flow": null,
            "width": null,
            "min_width": null,
            "border": null,
            "align_items": null,
            "bottom": null,
            "_model_module": "@jupyter-widgets/base",
            "top": null,
            "grid_column": null,
            "overflow_y": null,
            "overflow_x": null,
            "grid_auto_flow": null,
            "grid_area": null,
            "grid_template_columns": null,
            "flex": null,
            "_model_name": "LayoutModel",
            "justify_items": null,
            "grid_row": null,
            "max_height": null,
            "align_content": null,
            "visibility": null,
            "align_self": null,
            "height": null,
            "min_height": null,
            "padding": null,
            "grid_auto_rows": null,
            "grid_gap": null,
            "max_width": null,
            "order": null,
            "_view_module_version": "1.2.0",
            "grid_template_areas": null,
            "object_position": null,
            "object_fit": null,
            "grid_auto_columns": null,
            "margin": null,
            "display": null,
            "left": null
          }
        },
        "a1dab70309fc460ea7aaab2493e0435c": {
          "model_module": "@jupyter-widgets/controls",
          "model_name": "FloatProgressModel",
          "state": {
            "_view_name": "ProgressView",
            "style": "IPY_MODEL_cd74859b78e4464d8e9faef73b51ba42",
            "_dom_classes": [],
            "description": "Downloading: 100%",
            "_model_name": "FloatProgressModel",
            "bar_style": "success",
            "max": 565485600,
            "_view_module": "@jupyter-widgets/controls",
            "_model_module_version": "1.5.0",
            "value": 565485600,
            "_view_count": null,
            "_view_module_version": "1.5.0",
            "orientation": "horizontal",
            "min": 0,
            "description_tooltip": null,
            "_model_module": "@jupyter-widgets/controls",
            "layout": "IPY_MODEL_619a267cf23343c5bdba31f9683b549a"
          }
        },
        "17b627e212354f9b99cdf546a5e02143": {
          "model_module": "@jupyter-widgets/controls",
          "model_name": "HTMLModel",
          "state": {
            "_view_name": "HTMLView",
            "style": "IPY_MODEL_a26ba2514fa2495792dde7fb986b0070",
            "_dom_classes": [],
            "description": "",
            "_model_name": "HTMLModel",
            "placeholder": "​",
            "_view_module": "@jupyter-widgets/controls",
            "_model_module_version": "1.5.0",
            "value": " 565M/565M [00:19&lt;00:00, 29.0MB/s]",
            "_view_count": null,
            "_view_module_version": "1.5.0",
            "description_tooltip": null,
            "_model_module": "@jupyter-widgets/controls",
            "layout": "IPY_MODEL_90591cb95de143e1816346e362a3263d"
          }
        },
        "cd74859b78e4464d8e9faef73b51ba42": {
          "model_module": "@jupyter-widgets/controls",
          "model_name": "ProgressStyleModel",
          "state": {
            "_view_name": "StyleView",
            "_model_name": "ProgressStyleModel",
            "description_width": "initial",
            "_view_module": "@jupyter-widgets/base",
            "_model_module_version": "1.5.0",
            "_view_count": null,
            "_view_module_version": "1.2.0",
            "bar_color": null,
            "_model_module": "@jupyter-widgets/controls"
          }
        },
        "619a267cf23343c5bdba31f9683b549a": {
          "model_module": "@jupyter-widgets/base",
          "model_name": "LayoutModel",
          "state": {
            "_view_name": "LayoutView",
            "grid_template_rows": null,
            "right": null,
            "justify_content": null,
            "_view_module": "@jupyter-widgets/base",
            "overflow": null,
            "_model_module_version": "1.2.0",
            "_view_count": null,
            "flex_flow": null,
            "width": null,
            "min_width": null,
            "border": null,
            "align_items": null,
            "bottom": null,
            "_model_module": "@jupyter-widgets/base",
            "top": null,
            "grid_column": null,
            "overflow_y": null,
            "overflow_x": null,
            "grid_auto_flow": null,
            "grid_area": null,
            "grid_template_columns": null,
            "flex": null,
            "_model_name": "LayoutModel",
            "justify_items": null,
            "grid_row": null,
            "max_height": null,
            "align_content": null,
            "visibility": null,
            "align_self": null,
            "height": null,
            "min_height": null,
            "padding": null,
            "grid_auto_rows": null,
            "grid_gap": null,
            "max_width": null,
            "order": null,
            "_view_module_version": "1.2.0",
            "grid_template_areas": null,
            "object_position": null,
            "object_fit": null,
            "grid_auto_columns": null,
            "margin": null,
            "display": null,
            "left": null
          }
        },
        "a26ba2514fa2495792dde7fb986b0070": {
          "model_module": "@jupyter-widgets/controls",
          "model_name": "DescriptionStyleModel",
          "state": {
            "_view_name": "StyleView",
            "_model_name": "DescriptionStyleModel",
            "description_width": "",
            "_view_module": "@jupyter-widgets/base",
            "_model_module_version": "1.5.0",
            "_view_count": null,
            "_view_module_version": "1.2.0",
            "_model_module": "@jupyter-widgets/controls"
          }
        },
        "90591cb95de143e1816346e362a3263d": {
          "model_module": "@jupyter-widgets/base",
          "model_name": "LayoutModel",
          "state": {
            "_view_name": "LayoutView",
            "grid_template_rows": null,
            "right": null,
            "justify_content": null,
            "_view_module": "@jupyter-widgets/base",
            "overflow": null,
            "_model_module_version": "1.2.0",
            "_view_count": null,
            "flex_flow": null,
            "width": null,
            "min_width": null,
            "border": null,
            "align_items": null,
            "bottom": null,
            "_model_module": "@jupyter-widgets/base",
            "top": null,
            "grid_column": null,
            "overflow_y": null,
            "overflow_x": null,
            "grid_auto_flow": null,
            "grid_area": null,
            "grid_template_columns": null,
            "flex": null,
            "_model_name": "LayoutModel",
            "justify_items": null,
            "grid_row": null,
            "max_height": null,
            "align_content": null,
            "visibility": null,
            "align_self": null,
            "height": null,
            "min_height": null,
            "padding": null,
            "grid_auto_rows": null,
            "grid_gap": null,
            "max_width": null,
            "order": null,
            "_view_module_version": "1.2.0",
            "grid_template_areas": null,
            "object_position": null,
            "object_fit": null,
            "grid_auto_columns": null,
            "margin": null,
            "display": null,
            "left": null
          }
        }
      }
    }
  },
  "cells": [
    {
      "cell_type": "markdown",
      "metadata": {
        "id": "DgfHNcOPbOk3"
      },
      "source": [
        "#Classification using XLNet on IMDB dataset\n",
        "\n",
        "In this mini-project, we use a pre-trained neural network as XLNet to predict the sentiment of movie reviews extracted from a large dataset before and after performing data augmentation.\n",
        "\n",
        "Due to the deluge of unstructured data produced nowadays like in text messages, social media, forums, blogs, news publishing platforms, web searches, and many other channels, it is necessary to develop efficient NLP algorithms to handle such a large volume of text data.\n",
        "\n",
        "Over the last decade, NLP technology has seen an incredible leap, with much progress made by Deep Learning. Started by Word2Vec the breakthroughs within the domain are numerous and made possible the creation (or revamp) of applications like machine translation, speech recognition, chatbots, and so on.\n",
        "\n",
        "For this task, we will use various Python libraries to perform data wrangling, exploratory analysis, model building, training, and evaluation."
      ]
    },
    {
      "cell_type": "markdown",
      "metadata": {
        "id": "VNfPfsebBWVZ"
      },
      "source": [
        "## 1. Data Wrangling\n",
        "\n",
        "We start by gathering the movie reviews from raw text files made available from Stanford AI Lab at this [link](https://ai.stanford.edu/~amaas/data/sentiment/).\n",
        "\n",
        "The text files names follow a convention: [id]_[rating].txt where [id] is a unique id and [rating] is the star rating for that review on a 1-10 scale.\n",
        "\n",
        "In the labeled _Train_/_Test_ subsets, a **negative** review has a score <= 4 out of 10,\n",
        "and a **positive** review has a score >= 7 out of 10. Thus reviews with\n",
        "more neutral ratings are not included.\n",
        "\n",
        "Here, we will extract the review information from each file name and assign a label accordingly."
      ]
    },
    {
      "cell_type": "code",
      "metadata": {
        "colab": {
          "base_uri": "https://localhost:8080/"
        },
        "id": "mm6K5U0K_pHn",
        "outputId": "128f22d5-0480-4d30-ed00-a490cc54a0a5"
      },
      "source": [
        "# Mount a virtual drive from GDrive\n",
        "from google.colab import drive\n",
        "drive.mount('/content/drive')"
      ],
      "execution_count": null,
      "outputs": [
        {
          "output_type": "stream",
          "text": [
            "Mounted at /content/drive\n"
          ],
          "name": "stdout"
        }
      ]
    },
    {
      "cell_type": "code",
      "metadata": {
        "colab": {
          "base_uri": "https://localhost:8080/",
          "height": 206
        },
        "id": "x0J8G0VSHyTt",
        "outputId": "fcf66102-5bfc-4d32-d95f-5a1cbf079c01"
      },
      "source": [
        "import pandas as pd\n",
        "import os\n",
        "\n",
        "# Create a list object to import positive reviews from train directory\n",
        "file_names_pos = os.listdir('/content/drive/My Drive/data/aclImdb_v1.tar.gz/aclImdb/train/pos/')\n",
        "\n",
        "# Create dataframe to store scores, labels, and texts\n",
        "train_pos = pd.DataFrame(columns=['text', 'score','label'])\n",
        "\n",
        "for i in range(0,len(file_names_pos)):\n",
        "  ending = file_names_pos[i].split('_')[-1]\n",
        "  res = [int(i) for i in ending.split('.') if i.isdigit()]\n",
        "  train_pos.loc[i,'score'] = res[0]\n",
        "  train_pos.loc[i,'label'] = 'positive'\n",
        "  with open('/content/drive/My Drive/data/aclImdb_v1.tar.gz/aclImdb/train/pos/' + file_names_pos[i], \"r\") as pos_file:\n",
        "    train_pos.loc[i,'text'] = pos_file.read()\n",
        "        \n",
        "# Create a list object to import negative reviews from train directory\n",
        "file_names_neg = os.listdir('/content/drive/My Drive/data/aclImdb_v1.tar.gz/aclImdb/train/neg/')\n",
        "\n",
        "# Create dataframe to store scores, labels, and texts\n",
        "train_neg = pd.DataFrame(columns=['text', 'score','label'])\n",
        "\n",
        "for i in range(0,len(file_names_neg)):\n",
        "  ending = file_names_neg[i].split('_')[-1]\n",
        "  res = [int(i) for i in ending.split('.') if i.isdigit()]\n",
        "  train_neg.loc[i,'score'] = res[0]\n",
        "  train_neg.loc[i,'label'] = 'negative'\n",
        "  with open('/content/drive/My Drive/data/aclImdb_v1.tar.gz/aclImdb/train/neg/' + file_names_neg[i], \"r\") as neg_file:\n",
        "    train_neg.loc[i,'text'] = neg_file.read()\n",
        "\n",
        "# Concatenate both positive and negative reviews dataframes\n",
        "df_train = pd.concat([train_pos,train_neg], ignore_index=True)\n",
        "df_train.head() # display the first 5 rows"
      ],
      "execution_count": null,
      "outputs": [
        {
          "output_type": "execute_result",
          "data": {
            "text/html": [
              "<div>\n",
              "<style scoped>\n",
              "    .dataframe tbody tr th:only-of-type {\n",
              "        vertical-align: middle;\n",
              "    }\n",
              "\n",
              "    .dataframe tbody tr th {\n",
              "        vertical-align: top;\n",
              "    }\n",
              "\n",
              "    .dataframe thead th {\n",
              "        text-align: right;\n",
              "    }\n",
              "</style>\n",
              "<table border=\"1\" class=\"dataframe\">\n",
              "  <thead>\n",
              "    <tr style=\"text-align: right;\">\n",
              "      <th></th>\n",
              "      <th>text</th>\n",
              "      <th>score</th>\n",
              "      <th>label</th>\n",
              "    </tr>\n",
              "  </thead>\n",
              "  <tbody>\n",
              "    <tr>\n",
              "      <th>0</th>\n",
              "      <td>Nicely and intelligently played by the two you...</td>\n",
              "      <td>10</td>\n",
              "      <td>positive</td>\n",
              "    </tr>\n",
              "    <tr>\n",
              "      <th>1</th>\n",
              "      <td>S.S. Van Dine must have been a shrewd business...</td>\n",
              "      <td>8</td>\n",
              "      <td>positive</td>\n",
              "    </tr>\n",
              "    <tr>\n",
              "      <th>2</th>\n",
              "      <td>EDMUND LOWE (who reminds me somewhat of Warren...</td>\n",
              "      <td>7</td>\n",
              "      <td>positive</td>\n",
              "    </tr>\n",
              "    <tr>\n",
              "      <th>3</th>\n",
              "      <td>When Philo Vance (Edmund Lowe) is standing pre...</td>\n",
              "      <td>9</td>\n",
              "      <td>positive</td>\n",
              "    </tr>\n",
              "    <tr>\n",
              "      <th>4</th>\n",
              "      <td>Etienne Girardot is just a character actor--th...</td>\n",
              "      <td>7</td>\n",
              "      <td>positive</td>\n",
              "    </tr>\n",
              "  </tbody>\n",
              "</table>\n",
              "</div>"
            ],
            "text/plain": [
              "                                                text score     label\n",
              "0  Nicely and intelligently played by the two you...    10  positive\n",
              "1  S.S. Van Dine must have been a shrewd business...     8  positive\n",
              "2  EDMUND LOWE (who reminds me somewhat of Warren...     7  positive\n",
              "3  When Philo Vance (Edmund Lowe) is standing pre...     9  positive\n",
              "4  Etienne Girardot is just a character actor--th...     7  positive"
            ]
          },
          "metadata": {
            "tags": []
          },
          "execution_count": 3
        }
      ]
    },
    {
      "cell_type": "code",
      "metadata": {
        "colab": {
          "base_uri": "https://localhost:8080/",
          "height": 206
        },
        "id": "JJMABb5UHyhE",
        "outputId": "a3c12187-adc8-45a5-d0f6-d0a24ced8648"
      },
      "source": [
        "# Create a list object to import positive reviews from test directory\n",
        "file_names_pos = os.listdir('/content/drive/My Drive/data/aclImdb_v1.tar.gz/aclImdb/test/pos/')\n",
        "\n",
        "# Create dataframe to store scores, labels, and texts\n",
        "test_pos = pd.DataFrame(columns=['text', 'score','label'])\n",
        "\n",
        "for i in range(0,len(file_names_pos)):\n",
        "  ending = file_names_pos[i].split('_')[-1]\n",
        "  res = [int(i) for i in ending.split('.') if i.isdigit()]\n",
        "  test_pos.loc[i,'score'] = res[0]\n",
        "  test_pos.loc[i,'label'] = 'positive'\n",
        "  with open('/content/drive/My Drive/data/aclImdb_v1.tar.gz/aclImdb/test/pos/' + file_names_pos[i], \"r\") as pos_file:\n",
        "    test_pos.loc[i,'text'] = pos_file.read()\n",
        "        \n",
        "# Create a list object to import negative reviews from test directory\n",
        "file_names_neg = os.listdir('/content/drive/My Drive/data/aclImdb_v1.tar.gz/aclImdb/test/neg/')\n",
        "\n",
        "# Create dataframe to store scores, labels, and texts\n",
        "test_neg = pd.DataFrame(columns=['text', 'score','label'])\n",
        "\n",
        "for i in range(0,len(file_names_neg)):\n",
        "  ending = file_names_neg[i].split('_')[-1]\n",
        "  res = [int(i) for i in ending.split('.') if i.isdigit()]\n",
        "  test_neg.loc[i,'score'] = res[0]\n",
        "  test_neg.loc[i,'label'] = 'negative'\n",
        "  with open('/content/drive/My Drive/data/aclImdb_v1.tar.gz/aclImdb/test/neg/' + file_names_neg[i], \"r\") as neg_file:\n",
        "    test_neg.loc[i,'text'] = neg_file.read()\n",
        "\n",
        "# Concatenate both positive and negative reviews dataframes\n",
        "df_test = pd.concat([test_pos,test_neg], ignore_index=True)\n",
        "df_test.head() # display the first 5 rows"
      ],
      "execution_count": null,
      "outputs": [
        {
          "output_type": "execute_result",
          "data": {
            "text/html": [
              "<div>\n",
              "<style scoped>\n",
              "    .dataframe tbody tr th:only-of-type {\n",
              "        vertical-align: middle;\n",
              "    }\n",
              "\n",
              "    .dataframe tbody tr th {\n",
              "        vertical-align: top;\n",
              "    }\n",
              "\n",
              "    .dataframe thead th {\n",
              "        text-align: right;\n",
              "    }\n",
              "</style>\n",
              "<table border=\"1\" class=\"dataframe\">\n",
              "  <thead>\n",
              "    <tr style=\"text-align: right;\">\n",
              "      <th></th>\n",
              "      <th>text</th>\n",
              "      <th>score</th>\n",
              "      <th>label</th>\n",
              "    </tr>\n",
              "  </thead>\n",
              "  <tbody>\n",
              "    <tr>\n",
              "      <th>0</th>\n",
              "      <td>Simon Wests pg-13 thriller about a babysitter ...</td>\n",
              "      <td>7</td>\n",
              "      <td>positive</td>\n",
              "    </tr>\n",
              "    <tr>\n",
              "      <th>1</th>\n",
              "      <td>I was recently at a sleepover birthday party w...</td>\n",
              "      <td>9</td>\n",
              "      <td>positive</td>\n",
              "    </tr>\n",
              "    <tr>\n",
              "      <th>2</th>\n",
              "      <td>A hundred miles away from the scene of a grizz...</td>\n",
              "      <td>7</td>\n",
              "      <td>positive</td>\n",
              "    </tr>\n",
              "    <tr>\n",
              "      <th>3</th>\n",
              "      <td>If you have ever babysat in a house you didn't...</td>\n",
              "      <td>7</td>\n",
              "      <td>positive</td>\n",
              "    </tr>\n",
              "    <tr>\n",
              "      <th>4</th>\n",
              "      <td>People say that this film is a 'typical teen h...</td>\n",
              "      <td>8</td>\n",
              "      <td>positive</td>\n",
              "    </tr>\n",
              "  </tbody>\n",
              "</table>\n",
              "</div>"
            ],
            "text/plain": [
              "                                                text score     label\n",
              "0  Simon Wests pg-13 thriller about a babysitter ...     7  positive\n",
              "1  I was recently at a sleepover birthday party w...     9  positive\n",
              "2  A hundred miles away from the scene of a grizz...     7  positive\n",
              "3  If you have ever babysat in a house you didn't...     7  positive\n",
              "4  People say that this film is a 'typical teen h...     8  positive"
            ]
          },
          "metadata": {
            "tags": []
          },
          "execution_count": 6
        }
      ]
    },
    {
      "cell_type": "markdown",
      "metadata": {
        "id": "SEYW57KYxZnV"
      },
      "source": [
        "## 2. Exploratory Analysis\n",
        "\n",
        "Before start is always a good practice to understand the data. So, let's do some exploratory data analysis;"
      ]
    },
    {
      "cell_type": "code",
      "metadata": {
        "colab": {
          "base_uri": "https://localhost:8080/",
          "height": 175
        },
        "id": "8C7Mg3S7wL5S",
        "outputId": "ff96b5bf-d83a-4909-b632-7630ff1b2392"
      },
      "source": [
        "# Get preliminaries from dataset\n",
        "df_train.describe()"
      ],
      "execution_count": null,
      "outputs": [
        {
          "output_type": "execute_result",
          "data": {
            "text/html": [
              "<div>\n",
              "<style scoped>\n",
              "    .dataframe tbody tr th:only-of-type {\n",
              "        vertical-align: middle;\n",
              "    }\n",
              "\n",
              "    .dataframe tbody tr th {\n",
              "        vertical-align: top;\n",
              "    }\n",
              "\n",
              "    .dataframe thead th {\n",
              "        text-align: right;\n",
              "    }\n",
              "</style>\n",
              "<table border=\"1\" class=\"dataframe\">\n",
              "  <thead>\n",
              "    <tr style=\"text-align: right;\">\n",
              "      <th></th>\n",
              "      <th>text</th>\n",
              "      <th>score</th>\n",
              "      <th>label</th>\n",
              "    </tr>\n",
              "  </thead>\n",
              "  <tbody>\n",
              "    <tr>\n",
              "      <th>count</th>\n",
              "      <td>25000</td>\n",
              "      <td>25000</td>\n",
              "      <td>25000</td>\n",
              "    </tr>\n",
              "    <tr>\n",
              "      <th>unique</th>\n",
              "      <td>24904</td>\n",
              "      <td>8</td>\n",
              "      <td>2</td>\n",
              "    </tr>\n",
              "    <tr>\n",
              "      <th>top</th>\n",
              "      <td>This show comes up with interesting locations ...</td>\n",
              "      <td>1</td>\n",
              "      <td>negative</td>\n",
              "    </tr>\n",
              "    <tr>\n",
              "      <th>freq</th>\n",
              "      <td>3</td>\n",
              "      <td>5100</td>\n",
              "      <td>12500</td>\n",
              "    </tr>\n",
              "  </tbody>\n",
              "</table>\n",
              "</div>"
            ],
            "text/plain": [
              "                                                     text  score     label\n",
              "count                                               25000  25000     25000\n",
              "unique                                              24904      8         2\n",
              "top     This show comes up with interesting locations ...      1  negative\n",
              "freq                                                    3   5100     12500"
            ]
          },
          "metadata": {
            "tags": []
          },
          "execution_count": 157
        }
      ]
    },
    {
      "cell_type": "markdown",
      "metadata": {
        "id": "Wq2XeL8Rx4ZN"
      },
      "source": [
        "As we see, the _Train_ subset has 25,000 rows. However, not all of them are unique, that means, there are some duplicates that we need to deal with."
      ]
    },
    {
      "cell_type": "code",
      "metadata": {
        "colab": {
          "base_uri": "https://localhost:8080/",
          "height": 424
        },
        "id": "c1rknqAZzNuz",
        "outputId": "035d19f7-32cf-4aa6-f281-44a5d71709d8"
      },
      "source": [
        "# Display duplicates\n",
        "duplicated = df_train[df_train.duplicated(keep=False)]\n",
        "duplicated.sort_values(\"text\")"
      ],
      "execution_count": null,
      "outputs": [
        {
          "output_type": "execute_result",
          "data": {
            "text/html": [
              "<div>\n",
              "<style scoped>\n",
              "    .dataframe tbody tr th:only-of-type {\n",
              "        vertical-align: middle;\n",
              "    }\n",
              "\n",
              "    .dataframe tbody tr th {\n",
              "        vertical-align: top;\n",
              "    }\n",
              "\n",
              "    .dataframe thead th {\n",
              "        text-align: right;\n",
              "    }\n",
              "</style>\n",
              "<table border=\"1\" class=\"dataframe\">\n",
              "  <thead>\n",
              "    <tr style=\"text-align: right;\">\n",
              "      <th></th>\n",
              "      <th>text</th>\n",
              "      <th>score</th>\n",
              "      <th>label</th>\n",
              "    </tr>\n",
              "  </thead>\n",
              "  <tbody>\n",
              "    <tr>\n",
              "      <th>21217</th>\n",
              "      <td>'Dead Letter Office' is a low-budget film abou...</td>\n",
              "      <td>4</td>\n",
              "      <td>negative</td>\n",
              "    </tr>\n",
              "    <tr>\n",
              "      <th>23936</th>\n",
              "      <td>'Dead Letter Office' is a low-budget film abou...</td>\n",
              "      <td>4</td>\n",
              "      <td>negative</td>\n",
              "    </tr>\n",
              "    <tr>\n",
              "      <th>6591</th>\n",
              "      <td>.......Playing Kaddiddlehopper, Col San Fernan...</td>\n",
              "      <td>8</td>\n",
              "      <td>positive</td>\n",
              "    </tr>\n",
              "    <tr>\n",
              "      <th>3741</th>\n",
              "      <td>.......Playing Kaddiddlehopper, Col San Fernan...</td>\n",
              "      <td>8</td>\n",
              "      <td>positive</td>\n",
              "    </tr>\n",
              "    <tr>\n",
              "      <th>18177</th>\n",
              "      <td>&lt;br /&gt;&lt;br /&gt;Back in his youth, the old man had...</td>\n",
              "      <td>2</td>\n",
              "      <td>negative</td>\n",
              "    </tr>\n",
              "    <tr>\n",
              "      <th>...</th>\n",
              "      <td>...</td>\n",
              "      <td>...</td>\n",
              "      <td>...</td>\n",
              "    </tr>\n",
              "    <tr>\n",
              "      <th>17877</th>\n",
              "      <td>in this movie, joe pesci slams dunks a basketb...</td>\n",
              "      <td>3</td>\n",
              "      <td>negative</td>\n",
              "    </tr>\n",
              "    <tr>\n",
              "      <th>3123</th>\n",
              "      <td>it's amazing that so many people that i know h...</td>\n",
              "      <td>9</td>\n",
              "      <td>positive</td>\n",
              "    </tr>\n",
              "    <tr>\n",
              "      <th>3126</th>\n",
              "      <td>it's amazing that so many people that i know h...</td>\n",
              "      <td>9</td>\n",
              "      <td>positive</td>\n",
              "    </tr>\n",
              "    <tr>\n",
              "      <th>20027</th>\n",
              "      <td>this movie begins with an ordinary funeral... ...</td>\n",
              "      <td>1</td>\n",
              "      <td>negative</td>\n",
              "    </tr>\n",
              "    <tr>\n",
              "      <th>17542</th>\n",
              "      <td>this movie begins with an ordinary funeral... ...</td>\n",
              "      <td>1</td>\n",
              "      <td>negative</td>\n",
              "    </tr>\n",
              "  </tbody>\n",
              "</table>\n",
              "<p>186 rows × 3 columns</p>\n",
              "</div>"
            ],
            "text/plain": [
              "                                                    text score     label\n",
              "21217  'Dead Letter Office' is a low-budget film abou...     4  negative\n",
              "23936  'Dead Letter Office' is a low-budget film abou...     4  negative\n",
              "6591   .......Playing Kaddiddlehopper, Col San Fernan...     8  positive\n",
              "3741   .......Playing Kaddiddlehopper, Col San Fernan...     8  positive\n",
              "18177  <br /><br />Back in his youth, the old man had...     2  negative\n",
              "...                                                  ...   ...       ...\n",
              "17877  in this movie, joe pesci slams dunks a basketb...     3  negative\n",
              "3123   it's amazing that so many people that i know h...     9  positive\n",
              "3126   it's amazing that so many people that i know h...     9  positive\n",
              "20027  this movie begins with an ordinary funeral... ...     1  negative\n",
              "17542  this movie begins with an ordinary funeral... ...     1  negative\n",
              "\n",
              "[186 rows x 3 columns]"
            ]
          },
          "metadata": {
            "tags": []
          },
          "execution_count": 158
        }
      ]
    },
    {
      "cell_type": "code",
      "metadata": {
        "colab": {
          "base_uri": "https://localhost:8080/"
        },
        "id": "NBzbN_7_yOCt",
        "outputId": "13d48788-bbf3-4653-b27e-bc0f1c99e2f1"
      },
      "source": [
        "# Drop the duplicates\n",
        "df_train = pd.DataFrame.drop_duplicates(df_train, ignore_index=True)\n",
        "df_train.shape"
      ],
      "execution_count": null,
      "outputs": [
        {
          "output_type": "execute_result",
          "data": {
            "text/plain": [
              "(24905, 3)"
            ]
          },
          "metadata": {
            "tags": []
          },
          "execution_count": 3
        }
      ]
    },
    {
      "cell_type": "markdown",
      "metadata": {
        "id": "2n8Lajgc_3Gf"
      },
      "source": [
        "From 25,000 rows 24,905 were left. Let's check again for uniquiness."
      ]
    },
    {
      "cell_type": "code",
      "metadata": {
        "colab": {
          "base_uri": "https://localhost:8080/",
          "height": 175
        },
        "id": "KnOSWaiO3Nje",
        "outputId": "9b49caf5-6a35-4bea-d2e2-11b23dc36cc6"
      },
      "source": [
        "# Check the result\n",
        "df_train.describe()"
      ],
      "execution_count": null,
      "outputs": [
        {
          "output_type": "execute_result",
          "data": {
            "text/html": [
              "<div>\n",
              "<style scoped>\n",
              "    .dataframe tbody tr th:only-of-type {\n",
              "        vertical-align: middle;\n",
              "    }\n",
              "\n",
              "    .dataframe tbody tr th {\n",
              "        vertical-align: top;\n",
              "    }\n",
              "\n",
              "    .dataframe thead th {\n",
              "        text-align: right;\n",
              "    }\n",
              "</style>\n",
              "<table border=\"1\" class=\"dataframe\">\n",
              "  <thead>\n",
              "    <tr style=\"text-align: right;\">\n",
              "      <th></th>\n",
              "      <th>text</th>\n",
              "      <th>score</th>\n",
              "      <th>label</th>\n",
              "    </tr>\n",
              "  </thead>\n",
              "  <tbody>\n",
              "    <tr>\n",
              "      <th>count</th>\n",
              "      <td>24905</td>\n",
              "      <td>24905</td>\n",
              "      <td>24905</td>\n",
              "    </tr>\n",
              "    <tr>\n",
              "      <th>unique</th>\n",
              "      <td>24904</td>\n",
              "      <td>8</td>\n",
              "      <td>2</td>\n",
              "    </tr>\n",
              "    <tr>\n",
              "      <th>top</th>\n",
              "      <td>Sondra Locke stinks in this film, but then she...</td>\n",
              "      <td>1</td>\n",
              "      <td>positive</td>\n",
              "    </tr>\n",
              "    <tr>\n",
              "      <th>freq</th>\n",
              "      <td>2</td>\n",
              "      <td>5068</td>\n",
              "      <td>12472</td>\n",
              "    </tr>\n",
              "  </tbody>\n",
              "</table>\n",
              "</div>"
            ],
            "text/plain": [
              "                                                     text  score     label\n",
              "count                                               24905  24905     24905\n",
              "unique                                              24904      8         2\n",
              "top     Sondra Locke stinks in this film, but then she...      1  positive\n",
              "freq                                                    2   5068     12472"
            ]
          },
          "metadata": {
            "tags": []
          },
          "execution_count": 160
        }
      ]
    },
    {
      "cell_type": "markdown",
      "metadata": {
        "id": "FeTDyLv0AGkz"
      },
      "source": [
        "Still a problem. There is an issue with the row with text about _Sondra Locke's_ film. Let's investigate."
      ]
    },
    {
      "cell_type": "code",
      "metadata": {
        "colab": {
          "base_uri": "https://localhost:8080/",
          "height": 112
        },
        "id": "AqkojEOg4CnS",
        "outputId": "38ed4f1f-dba1-4a58-93ae-0fd919596a8d"
      },
      "source": [
        "# Display rows with the same text about Sondra Locke\n",
        "df_train[df_train['text'].str.contains(\"Sondra Locke stinks in this film, but then she\")]"
      ],
      "execution_count": null,
      "outputs": [
        {
          "output_type": "execute_result",
          "data": {
            "text/html": [
              "<div>\n",
              "<style scoped>\n",
              "    .dataframe tbody tr th:only-of-type {\n",
              "        vertical-align: middle;\n",
              "    }\n",
              "\n",
              "    .dataframe tbody tr th {\n",
              "        vertical-align: top;\n",
              "    }\n",
              "\n",
              "    .dataframe thead th {\n",
              "        text-align: right;\n",
              "    }\n",
              "</style>\n",
              "<table border=\"1\" class=\"dataframe\">\n",
              "  <thead>\n",
              "    <tr style=\"text-align: right;\">\n",
              "      <th></th>\n",
              "      <th>text</th>\n",
              "      <th>score</th>\n",
              "      <th>label</th>\n",
              "    </tr>\n",
              "  </thead>\n",
              "  <tbody>\n",
              "    <tr>\n",
              "      <th>13436</th>\n",
              "      <td>Sondra Locke stinks in this film, but then she...</td>\n",
              "      <td>3</td>\n",
              "      <td>negative</td>\n",
              "    </tr>\n",
              "    <tr>\n",
              "      <th>13438</th>\n",
              "      <td>Sondra Locke stinks in this film, but then she...</td>\n",
              "      <td>4</td>\n",
              "      <td>negative</td>\n",
              "    </tr>\n",
              "  </tbody>\n",
              "</table>\n",
              "</div>"
            ],
            "text/plain": [
              "                                                    text score     label\n",
              "13436  Sondra Locke stinks in this film, but then she...     3  negative\n",
              "13438  Sondra Locke stinks in this film, but then she...     4  negative"
            ]
          },
          "metadata": {
            "tags": []
          },
          "execution_count": 161
        }
      ]
    },
    {
      "cell_type": "markdown",
      "metadata": {
        "id": "6nxjHdUicUcu"
      },
      "source": [
        "The previous cleaning method didn't catch this issue because it did not considered those rows as duplicates since the scores are different. Let's handle that."
      ]
    },
    {
      "cell_type": "code",
      "metadata": {
        "id": "Ns6kwp705Co3"
      },
      "source": [
        "# Drop the duplicate\n",
        "df_train = df_train.drop(df_train.index[13438])"
      ],
      "execution_count": null,
      "outputs": []
    },
    {
      "cell_type": "code",
      "metadata": {
        "colab": {
          "base_uri": "https://localhost:8080/",
          "height": 173
        },
        "id": "Ny8195Tf3Nvp",
        "outputId": "c99db45d-1152-45d6-84bb-7eb61c4a74fb"
      },
      "source": [
        "# Check the result\n",
        "df_train.describe()"
      ],
      "execution_count": null,
      "outputs": [
        {
          "output_type": "execute_result",
          "data": {
            "text/html": [
              "<div>\n",
              "<style scoped>\n",
              "    .dataframe tbody tr th:only-of-type {\n",
              "        vertical-align: middle;\n",
              "    }\n",
              "\n",
              "    .dataframe tbody tr th {\n",
              "        vertical-align: top;\n",
              "    }\n",
              "\n",
              "    .dataframe thead th {\n",
              "        text-align: right;\n",
              "    }\n",
              "</style>\n",
              "<table border=\"1\" class=\"dataframe\">\n",
              "  <thead>\n",
              "    <tr style=\"text-align: right;\">\n",
              "      <th></th>\n",
              "      <th>text</th>\n",
              "      <th>score</th>\n",
              "      <th>label</th>\n",
              "    </tr>\n",
              "  </thead>\n",
              "  <tbody>\n",
              "    <tr>\n",
              "      <th>count</th>\n",
              "      <td>24904</td>\n",
              "      <td>24904</td>\n",
              "      <td>24904</td>\n",
              "    </tr>\n",
              "    <tr>\n",
              "      <th>unique</th>\n",
              "      <td>24904</td>\n",
              "      <td>8</td>\n",
              "      <td>2</td>\n",
              "    </tr>\n",
              "    <tr>\n",
              "      <th>top</th>\n",
              "      <td>I'm certainly glad that a film was made about ...</td>\n",
              "      <td>1</td>\n",
              "      <td>positive</td>\n",
              "    </tr>\n",
              "    <tr>\n",
              "      <th>freq</th>\n",
              "      <td>1</td>\n",
              "      <td>5068</td>\n",
              "      <td>12472</td>\n",
              "    </tr>\n",
              "  </tbody>\n",
              "</table>\n",
              "</div>"
            ],
            "text/plain": [
              "                                                     text  score     label\n",
              "count                                               24904  24904     24904\n",
              "unique                                              24904      8         2\n",
              "top     I'm certainly glad that a film was made about ...      1  positive\n",
              "freq                                                    1   5068     12472"
            ]
          },
          "metadata": {
            "tags": []
          },
          "execution_count": 5
        }
      ]
    },
    {
      "cell_type": "markdown",
      "metadata": {
        "id": "6Ogfgi1cA5s1"
      },
      "source": [
        "We are good to go. Now, let's check for the distribution of _scores_ and _labels_. But first we need to check on each column data type."
      ]
    },
    {
      "cell_type": "code",
      "metadata": {
        "colab": {
          "base_uri": "https://localhost:8080/"
        },
        "id": "zuEV-NbnBqoU",
        "outputId": "0394f925-8f76-4cd9-9d8a-3a2516af33ae"
      },
      "source": [
        "# Check columns data type\n",
        "df_train.dtypes"
      ],
      "execution_count": null,
      "outputs": [
        {
          "output_type": "execute_result",
          "data": {
            "text/plain": [
              "text     object\n",
              "score    object\n",
              "label    object\n",
              "dtype: object"
            ]
          },
          "metadata": {
            "tags": []
          },
          "execution_count": 164
        }
      ]
    },
    {
      "cell_type": "markdown",
      "metadata": {
        "id": "uNDXcSIxF-1-"
      },
      "source": [
        "Before plotting we need to convert each column values accordingly."
      ]
    },
    {
      "cell_type": "code",
      "metadata": {
        "id": "Lci7sFcvB_Bb"
      },
      "source": [
        "df_train['score'] = df_train['score'].astype(int) # convert into integers\n",
        "df_train['label'] = pd.Categorical(df_train.label) # convert into categorical"
      ],
      "execution_count": null,
      "outputs": []
    },
    {
      "cell_type": "code",
      "metadata": {
        "colab": {
          "base_uri": "https://localhost:8080/",
          "height": 285
        },
        "id": "CWh1rn92BH10",
        "outputId": "31879a42-cc06-417c-fc92-d2a0eef1205c"
      },
      "source": [
        "import seaborn as sns\n",
        "\n",
        "sns.set(color_codes=True)\n",
        "sns.set(style=\"white\", palette=\"muted\")\n",
        "\n",
        "# Plot histogram of the scores\n",
        "score =sns.histplot(data=df_train, x=\"score\", bins=8)"
      ],
      "execution_count": null,
      "outputs": [
        {
          "output_type": "display_data",
          "data": {
            "image/png": "[encoded data removed]",
            "text/plain": [
              "<Figure size 432x288 with 1 Axes>"
            ]
          },
          "metadata": {
            "tags": []
          }
        }
      ]
    },
    {
      "cell_type": "markdown",
      "metadata": {
        "id": "01IGzHVoGSEl"
      },
      "source": [
        "The graph above is pratically symmetric with no values between 5 and 6 (as previously noted) which indicates that the distribuition of negatives and positive labels may be uniform. Let's check."
      ]
    },
    {
      "cell_type": "code",
      "metadata": {
        "colab": {
          "base_uri": "https://localhost:8080/",
          "height": 382
        },
        "id": "wl-rklsBDbAD",
        "outputId": "2b5f0973-312b-405c-d415-3e218b8be78c"
      },
      "source": [
        "# Print labels bar plor\n",
        "label = sns.catplot(x=\"label\", kind=\"count\", data=df_train)"
      ],
      "execution_count": null,
      "outputs": [
        {
          "output_type": "display_data",
          "data": {
            "image/png": "[encoded data removed]",
            "text/plain": [
              "<Figure size 360x360 with 1 Axes>"
            ]
          },
          "metadata": {
            "tags": []
          }
        }
      ]
    },
    {
      "cell_type": "markdown",
      "metadata": {
        "id": "oWuUZWP-RzS4"
      },
      "source": [
        "As we can verify from the graph above, the labels are not significantly unbalanced and we do not have to worry about doing under(over)sampling or creating synthetic data."
      ]
    },
    {
      "cell_type": "markdown",
      "metadata": {
        "id": "ABHoN2TIS9Sj"
      },
      "source": [
        "Let's do a similar check on _Test_ subset."
      ]
    },
    {
      "cell_type": "code",
      "metadata": {
        "colab": {
          "base_uri": "https://localhost:8080/",
          "height": 175
        },
        "id": "2Ymurgh4LcPk",
        "outputId": "9bf7ac23-c1ba-475f-eee9-a0a118778d00"
      },
      "source": [
        "# Get preliminaries from datases\n",
        "df_test.describe()"
      ],
      "execution_count": null,
      "outputs": [
        {
          "output_type": "execute_result",
          "data": {
            "text/html": [
              "<div>\n",
              "<style scoped>\n",
              "    .dataframe tbody tr th:only-of-type {\n",
              "        vertical-align: middle;\n",
              "    }\n",
              "\n",
              "    .dataframe tbody tr th {\n",
              "        vertical-align: top;\n",
              "    }\n",
              "\n",
              "    .dataframe thead th {\n",
              "        text-align: right;\n",
              "    }\n",
              "</style>\n",
              "<table border=\"1\" class=\"dataframe\">\n",
              "  <thead>\n",
              "    <tr style=\"text-align: right;\">\n",
              "      <th></th>\n",
              "      <th>text</th>\n",
              "      <th>score</th>\n",
              "      <th>label</th>\n",
              "    </tr>\n",
              "  </thead>\n",
              "  <tbody>\n",
              "    <tr>\n",
              "      <th>count</th>\n",
              "      <td>25000</td>\n",
              "      <td>25000</td>\n",
              "      <td>25000</td>\n",
              "    </tr>\n",
              "    <tr>\n",
              "      <th>unique</th>\n",
              "      <td>24801</td>\n",
              "      <td>8</td>\n",
              "      <td>2</td>\n",
              "    </tr>\n",
              "    <tr>\n",
              "      <th>top</th>\n",
              "      <td>Loved today's show!!! It was a variety and not...</td>\n",
              "      <td>1</td>\n",
              "      <td>positive</td>\n",
              "    </tr>\n",
              "    <tr>\n",
              "      <th>freq</th>\n",
              "      <td>5</td>\n",
              "      <td>5022</td>\n",
              "      <td>12500</td>\n",
              "    </tr>\n",
              "  </tbody>\n",
              "</table>\n",
              "</div>"
            ],
            "text/plain": [
              "                                                     text  score     label\n",
              "count                                               25000  25000     25000\n",
              "unique                                              24801      8         2\n",
              "top     Loved today's show!!! It was a variety and not...      1  positive\n",
              "freq                                                    5   5022     12500"
            ]
          },
          "metadata": {
            "tags": []
          },
          "execution_count": 4
        }
      ]
    },
    {
      "cell_type": "markdown",
      "metadata": {
        "id": "23jywIZfTKC0"
      },
      "source": [
        "There are also issues with duplicated rows. Now that we are aware, we will not  remove duplicates considering all columns values but only _text_ duplicates."
      ]
    },
    {
      "cell_type": "code",
      "metadata": {
        "id": "LJVzX6cAPLoP"
      },
      "source": [
        "# Remove row duplicates based on text\n",
        "df_test = df_test.drop_duplicates(subset=['text'])"
      ],
      "execution_count": null,
      "outputs": []
    },
    {
      "cell_type": "code",
      "metadata": {
        "colab": {
          "base_uri": "https://localhost:8080/",
          "height": 173
        },
        "id": "ppM_uu8Yn-xK",
        "outputId": "7a04134a-43ea-41f2-d6bb-52412132a452"
      },
      "source": [
        "# Check the result\n",
        "df_test.describe()"
      ],
      "execution_count": null,
      "outputs": [
        {
          "output_type": "execute_result",
          "data": {
            "text/html": [
              "<div>\n",
              "<style scoped>\n",
              "    .dataframe tbody tr th:only-of-type {\n",
              "        vertical-align: middle;\n",
              "    }\n",
              "\n",
              "    .dataframe tbody tr th {\n",
              "        vertical-align: top;\n",
              "    }\n",
              "\n",
              "    .dataframe thead th {\n",
              "        text-align: right;\n",
              "    }\n",
              "</style>\n",
              "<table border=\"1\" class=\"dataframe\">\n",
              "  <thead>\n",
              "    <tr style=\"text-align: right;\">\n",
              "      <th></th>\n",
              "      <th>text</th>\n",
              "      <th>score</th>\n",
              "      <th>label</th>\n",
              "    </tr>\n",
              "  </thead>\n",
              "  <tbody>\n",
              "    <tr>\n",
              "      <th>count</th>\n",
              "      <td>24801</td>\n",
              "      <td>24801</td>\n",
              "      <td>24801</td>\n",
              "    </tr>\n",
              "    <tr>\n",
              "      <th>unique</th>\n",
              "      <td>24801</td>\n",
              "      <td>8</td>\n",
              "      <td>2</td>\n",
              "    </tr>\n",
              "    <tr>\n",
              "      <th>top</th>\n",
              "      <td>The first thing I noticed about this movie was...</td>\n",
              "      <td>10</td>\n",
              "      <td>positive</td>\n",
              "    </tr>\n",
              "    <tr>\n",
              "      <th>freq</th>\n",
              "      <td>1</td>\n",
              "      <td>4965</td>\n",
              "      <td>12440</td>\n",
              "    </tr>\n",
              "  </tbody>\n",
              "</table>\n",
              "</div>"
            ],
            "text/plain": [
              "                                                     text  score     label\n",
              "count                                               24801  24801     24801\n",
              "unique                                              24801      8         2\n",
              "top     The first thing I noticed about this movie was...     10  positive\n",
              "freq                                                    1   4965     12440"
            ]
          },
          "metadata": {
            "tags": []
          },
          "execution_count": 9
        }
      ]
    },
    {
      "cell_type": "code",
      "metadata": {
        "id": "oE_cq59YVVhE"
      },
      "source": [
        "df_test['score'] = df_test['score'].astype(int) # convert into integers\n",
        "df_test['label'] = pd.Categorical(df_test.label) # convert into categorical"
      ],
      "execution_count": null,
      "outputs": []
    },
    {
      "cell_type": "code",
      "metadata": {
        "colab": {
          "base_uri": "https://localhost:8080/"
        },
        "id": "yFHu_PF8SjpR",
        "outputId": "76adcb35-4ba9-45c9-dae4-835e6a5a73a5"
      },
      "source": [
        "# Count labels for each category\n",
        "df_test['label'].value_counts()"
      ],
      "execution_count": null,
      "outputs": [
        {
          "output_type": "execute_result",
          "data": {
            "text/plain": [
              "positive    12440\n",
              "negative    12361\n",
              "Name: label, dtype: int64"
            ]
          },
          "metadata": {
            "tags": []
          },
          "execution_count": 13
        }
      ]
    },
    {
      "cell_type": "markdown",
      "metadata": {
        "id": "aevghM2t0Hrp"
      },
      "source": [
        "Labels in _Test_ subset are not much unbalanced either."
      ]
    },
    {
      "cell_type": "markdown",
      "metadata": {
        "id": "R-0LcIGbqCyL"
      },
      "source": [
        "## 3. Data Pre-processing\n",
        "\n",
        "In every NLP task it is necessary to perform some pre-processing on data, like removing some characters from text that do not bring much information  like urls, tags, accents, emoticons, and stop words. Sometimes it is desirable to go for words' decapitalization and use word stems."
      ]
    },
    {
      "cell_type": "code",
      "metadata": {
        "id": "NTBeXR473G0h"
      },
      "source": [
        "import re\n",
        "\n",
        "# Define a function to remove unecessary characters from the text\n",
        "def clean_text(text):\n",
        "    # text = text.lower() #lower case\n",
        "    text = re.sub(r\"<[^>]*>\", ' ', text)\n",
        "    text = re.sub(r\"@[A-Za-z0-9]+\", ' ', text)\n",
        "    text = re.sub(r\"https?://[A-Za-z0-9./]+\", ' ', text)\n",
        "    text = re.sub(r\"[^a-zA-z.!?'0-9]\", ' ', text)\n",
        "    text = re.sub('\\t', ' ',  text)\n",
        "    text = re.sub(r\" +\", ' ', text)\n",
        "    return text"
      ],
      "execution_count": null,
      "outputs": []
    },
    {
      "cell_type": "code",
      "metadata": {
        "colab": {
          "base_uri": "https://localhost:8080/",
          "height": 204
        },
        "id": "VH7AN2mN3Ino",
        "outputId": "99dd9fa4-821d-4184-db4b-b2d3f1dece8b"
      },
      "source": [
        "# Apply the clean_text function of both data sets\n",
        "df_train['text'] = df_train['text'].apply(clean_text)\n",
        "df_test['text'] = df_test['text'].apply(clean_text)\n",
        "df_train.head() # display the first 5 rows of Train subset"
      ],
      "execution_count": null,
      "outputs": [
        {
          "output_type": "execute_result",
          "data": {
            "text/html": [
              "<div>\n",
              "<style scoped>\n",
              "    .dataframe tbody tr th:only-of-type {\n",
              "        vertical-align: middle;\n",
              "    }\n",
              "\n",
              "    .dataframe tbody tr th {\n",
              "        vertical-align: top;\n",
              "    }\n",
              "\n",
              "    .dataframe thead th {\n",
              "        text-align: right;\n",
              "    }\n",
              "</style>\n",
              "<table border=\"1\" class=\"dataframe\">\n",
              "  <thead>\n",
              "    <tr style=\"text-align: right;\">\n",
              "      <th></th>\n",
              "      <th>text</th>\n",
              "      <th>score</th>\n",
              "      <th>label</th>\n",
              "    </tr>\n",
              "  </thead>\n",
              "  <tbody>\n",
              "    <tr>\n",
              "      <th>0</th>\n",
              "      <td>Nicely and intelligently played by the two you...</td>\n",
              "      <td>10</td>\n",
              "      <td>positive</td>\n",
              "    </tr>\n",
              "    <tr>\n",
              "      <th>1</th>\n",
              "      <td>S.S. Van Dine must have been a shrewd business...</td>\n",
              "      <td>8</td>\n",
              "      <td>positive</td>\n",
              "    </tr>\n",
              "    <tr>\n",
              "      <th>2</th>\n",
              "      <td>EDMUND LOWE who reminds me somewhat of Warren ...</td>\n",
              "      <td>7</td>\n",
              "      <td>positive</td>\n",
              "    </tr>\n",
              "    <tr>\n",
              "      <th>3</th>\n",
              "      <td>When Philo Vance Edmund Lowe is standing preca...</td>\n",
              "      <td>9</td>\n",
              "      <td>positive</td>\n",
              "    </tr>\n",
              "    <tr>\n",
              "      <th>4</th>\n",
              "      <td>Etienne Girardot is just a character actor the...</td>\n",
              "      <td>7</td>\n",
              "      <td>positive</td>\n",
              "    </tr>\n",
              "  </tbody>\n",
              "</table>\n",
              "</div>"
            ],
            "text/plain": [
              "                                                text  score     label\n",
              "0  Nicely and intelligently played by the two you...     10  positive\n",
              "1  S.S. Van Dine must have been a shrewd business...      8  positive\n",
              "2  EDMUND LOWE who reminds me somewhat of Warren ...      7  positive\n",
              "3  When Philo Vance Edmund Lowe is standing preca...      9  positive\n",
              "4  Etienne Girardot is just a character actor the...      7  positive"
            ]
          },
          "metadata": {
            "tags": []
          },
          "execution_count": 12
        }
      ]
    },
    {
      "cell_type": "markdown",
      "metadata": {
        "id": "ap5UwFshtHWV"
      },
      "source": [
        "Now we will replace the categorical values of the labels by numbers, that means, positive = 1, and negative = 0."
      ]
    },
    {
      "cell_type": "code",
      "metadata": {
        "colab": {
          "base_uri": "https://localhost:8080/",
          "height": 204
        },
        "id": "q21TmgqmuXEL",
        "outputId": "e9a1fcae-e734-4926-d0e7-37adba6006c1"
      },
      "source": [
        "# Replace labels with numbers on both subsets\n",
        "df_train['label'] = df_train['label'].map({'positive':1, 'negative':0})\n",
        "df_test['label'] = df_test['label'].map({'positive':1, 'negative':0})\n",
        "df_test.head() # display the first 5 rows of Test subset"
      ],
      "execution_count": null,
      "outputs": [
        {
          "output_type": "execute_result",
          "data": {
            "text/html": [
              "<div>\n",
              "<style scoped>\n",
              "    .dataframe tbody tr th:only-of-type {\n",
              "        vertical-align: middle;\n",
              "    }\n",
              "\n",
              "    .dataframe tbody tr th {\n",
              "        vertical-align: top;\n",
              "    }\n",
              "\n",
              "    .dataframe thead th {\n",
              "        text-align: right;\n",
              "    }\n",
              "</style>\n",
              "<table border=\"1\" class=\"dataframe\">\n",
              "  <thead>\n",
              "    <tr style=\"text-align: right;\">\n",
              "      <th></th>\n",
              "      <th>text</th>\n",
              "      <th>score</th>\n",
              "      <th>label</th>\n",
              "    </tr>\n",
              "  </thead>\n",
              "  <tbody>\n",
              "    <tr>\n",
              "      <th>0</th>\n",
              "      <td>Simon Wests pg 13 thriller about a babysitter ...</td>\n",
              "      <td>7</td>\n",
              "      <td>1</td>\n",
              "    </tr>\n",
              "    <tr>\n",
              "      <th>1</th>\n",
              "      <td>I was recently at a sleepover birthday party w...</td>\n",
              "      <td>9</td>\n",
              "      <td>1</td>\n",
              "    </tr>\n",
              "    <tr>\n",
              "      <th>2</th>\n",
              "      <td>A hundred miles away from the scene of a grizz...</td>\n",
              "      <td>7</td>\n",
              "      <td>1</td>\n",
              "    </tr>\n",
              "    <tr>\n",
              "      <th>3</th>\n",
              "      <td>If you have ever babysat in a house you didn't...</td>\n",
              "      <td>7</td>\n",
              "      <td>1</td>\n",
              "    </tr>\n",
              "    <tr>\n",
              "      <th>4</th>\n",
              "      <td>People say that this film is a 'typical teen h...</td>\n",
              "      <td>8</td>\n",
              "      <td>1</td>\n",
              "    </tr>\n",
              "  </tbody>\n",
              "</table>\n",
              "</div>"
            ],
            "text/plain": [
              "                                                text  score label\n",
              "0  Simon Wests pg 13 thriller about a babysitter ...      7     1\n",
              "1  I was recently at a sleepover birthday party w...      9     1\n",
              "2  A hundred miles away from the scene of a grizz...      7     1\n",
              "3  If you have ever babysat in a house you didn't...      7     1\n",
              "4  People say that this film is a 'typical teen h...      8     1"
            ]
          },
          "metadata": {
            "tags": []
          },
          "execution_count": 13
        }
      ]
    },
    {
      "cell_type": "markdown",
      "metadata": {
        "id": "o5LqO3p6u-1d"
      },
      "source": [
        "## 4. Modeling\n",
        "\n",
        "Now we are ready to build a model, train, and test it."
      ]
    },
    {
      "cell_type": "code",
      "metadata": {
        "colab": {
          "base_uri": "https://localhost:8080/"
        },
        "id": "BDBNS4iNXuUL",
        "outputId": "1e904b37-7706-4073-f606-20ee271d2b71"
      },
      "source": [
        "!pip3 install -q tensorflow_gpu #==2.1.0"
      ],
      "execution_count": null,
      "outputs": [
        {
          "output_type": "stream",
          "text": [
            "\u001b[K     |████████████████████████████████| 320.4MB 56kB/s \n",
            "\u001b[?25h"
          ],
          "name": "stdout"
        }
      ]
    },
    {
      "cell_type": "code",
      "metadata": {
        "colab": {
          "base_uri": "https://localhost:8080/"
        },
        "id": "MAA46kq4X0C_",
        "outputId": "90e93631-741a-4392-9fb5-feb969aa7d3c"
      },
      "source": [
        "import tensorflow as tf\n",
        "print(tf.__version__)"
      ],
      "execution_count": null,
      "outputs": [
        {
          "output_type": "stream",
          "text": [
            "2.3.1\n"
          ],
          "name": "stdout"
        }
      ]
    },
    {
      "cell_type": "code",
      "metadata": {
        "colab": {
          "base_uri": "https://localhost:8080/"
        },
        "id": "sAYBZG2SX4nP",
        "outputId": "c6299e81-c3bf-4a49-f884-ad6631948fbe"
      },
      "source": [
        "!pip3 install -q ktrain"
      ],
      "execution_count": null,
      "outputs": [
        {
          "output_type": "stream",
          "text": [
            "\u001b[K     |████████████████████████████████| 25.3MB 30.8MB/s \n",
            "\u001b[K     |████████████████████████████████| 983kB 48.6MB/s \n",
            "\u001b[K     |████████████████████████████████| 266kB 53.8MB/s \n",
            "\u001b[K     |████████████████████████████████| 1.3MB 47.5MB/s \n",
            "\u001b[K     |████████████████████████████████| 1.1MB 54.4MB/s \n",
            "\u001b[K     |████████████████████████████████| 471kB 46.4MB/s \n",
            "\u001b[K     |████████████████████████████████| 2.9MB 52.8MB/s \n",
            "\u001b[K     |████████████████████████████████| 890kB 51.5MB/s \n",
            "\u001b[?25h  Building wheel for ktrain (setup.py) ... \u001b[?25l\u001b[?25hdone\n",
            "  Building wheel for langdetect (setup.py) ... \u001b[?25l\u001b[?25hdone\n",
            "  Building wheel for syntok (setup.py) ... \u001b[?25l\u001b[?25hdone\n",
            "  Building wheel for seqeval (setup.py) ... \u001b[?25l\u001b[?25hdone\n",
            "  Building wheel for keras-bert (setup.py) ... \u001b[?25l\u001b[?25hdone\n",
            "  Building wheel for sacremoses (setup.py) ... \u001b[?25l\u001b[?25hdone\n",
            "  Building wheel for keras-transformer (setup.py) ... \u001b[?25l\u001b[?25hdone\n",
            "  Building wheel for keras-pos-embd (setup.py) ... \u001b[?25l\u001b[?25hdone\n",
            "  Building wheel for keras-multi-head (setup.py) ... \u001b[?25l\u001b[?25hdone\n",
            "  Building wheel for keras-layer-normalization (setup.py) ... \u001b[?25l\u001b[?25hdone\n",
            "  Building wheel for keras-position-wise-feed-forward (setup.py) ... \u001b[?25l\u001b[?25hdone\n",
            "  Building wheel for keras-embed-sim (setup.py) ... \u001b[?25l\u001b[?25hdone\n",
            "  Building wheel for keras-self-attention (setup.py) ... \u001b[?25l\u001b[?25hdone\n",
            "\u001b[31mERROR: transformers 3.5.1 has requirement sentencepiece==0.1.91, but you'll have sentencepiece 0.1.94 which is incompatible.\u001b[0m\n"
          ],
          "name": "stdout"
        }
      ]
    },
    {
      "cell_type": "markdown",
      "metadata": {
        "id": "5BFcFbww9GmO"
      },
      "source": [
        "It is imperative to shuffle rows since we concatenated positive observations on top of negative ones."
      ]
    },
    {
      "cell_type": "code",
      "metadata": {
        "id": "rfnB04WQ_xoU"
      },
      "source": [
        "from sklearn.utils import shuffle\n",
        "\n",
        "# Shuffle rows\n",
        "df_train = shuffle(df_train)\n",
        "df_test = shuffle(df_test)"
      ],
      "execution_count": null,
      "outputs": []
    },
    {
      "cell_type": "markdown",
      "metadata": {
        "id": "0dA_uLnU9ps2"
      },
      "source": [
        "Models based on Transformers like XLNet consume lots of computational resources. Even using a GPU it would take a significant amount of time to train and validate the model. That is why we decided to reduce the number of rows.\n",
        "\n"
      ]
    },
    {
      "cell_type": "code",
      "metadata": {
        "id": "DaYAah0g_4Nl"
      },
      "source": [
        "# Reduce number of rows\n",
        "df_train = df_train[:12000]\n",
        "df_test = df_test[:12000]"
      ],
      "execution_count": null,
      "outputs": []
    },
    {
      "cell_type": "code",
      "metadata": {
        "id": "jyaoR6gJ4ysb"
      },
      "source": [
        "# Get Train and Test features and labels\n",
        "X_train = df_train.text; X_test = df_test.text; y_train = df_train.label; y_test = df_test.label\n",
        "\n",
        "# Transform from series into lists/arrays\n",
        "X_train = X_train.tolist()\n",
        "X_test = X_test.tolist()\n",
        "y_test = y_test.to_numpy()\n",
        "y_train = y_train.to_numpy()"
      ],
      "execution_count": null,
      "outputs": []
    },
    {
      "cell_type": "code",
      "metadata": {
        "colab": {
          "base_uri": "https://localhost:8080/"
        },
        "id": "V2N7Lx8dj-uL",
        "outputId": "59ce0476-a690-46ed-d959-decb2909cb29"
      },
      "source": [
        "# Check size of Train and Test subsets\n",
        "len(X_train), len(X_test)"
      ],
      "execution_count": null,
      "outputs": [
        {
          "output_type": "execute_result",
          "data": {
            "text/plain": [
              "(12000, 12000)"
            ]
          },
          "metadata": {
            "tags": []
          },
          "execution_count": 19
        }
      ]
    },
    {
      "cell_type": "markdown",
      "metadata": {
        "id": "8g2QjD2w-0uG"
      },
      "source": [
        "Now we are ready to build the model."
      ]
    },
    {
      "cell_type": "code",
      "metadata": {
        "colab": {
          "base_uri": "https://localhost:8080/",
          "height": 419,
          "referenced_widgets": [
            "37af494f831e46d183709bc76c229d36",
            "82eb219ddbb242898d5cd6232ffc3f35",
            "aabc8a747fe843c49588c4f675169c6c",
            "ac54dac7e1a340688ebd36e03688d06e",
            "16275139dbe54ed3869373d15ba5423d",
            "5b13cd8fc69d40c190e9fac2882d11cb",
            "a2e4f16d7ecf4741b8a6081d5441bbe1",
            "ec1fccdc13994bb68fd5aa18e513afd9",
            "c6375431175f4d50a53a520b6a0d8cc2",
            "d7cf5a5fdb084e2a90ccb67ffcb377c6",
            "5d3bbd1096b1426eaeb726be6481025e",
            "43bd7fabba0443599fd489ce9963bf58",
            "fd661fa1b0104a7eb8fbc64f7af69a29",
            "f333e604f8f340ed8401f022c3cfab0d",
            "c50465dd0d204c9cb484b498b990d659",
            "dd8947fe624148b4852b342bccfd520c",
            "684096d42d854ad69c4028f1e7488583",
            "e6e5334456ec441b8d166635aaa0c2d2",
            "a1dab70309fc460ea7aaab2493e0435c",
            "17b627e212354f9b99cdf546a5e02143",
            "cd74859b78e4464d8e9faef73b51ba42",
            "619a267cf23343c5bdba31f9683b549a",
            "a26ba2514fa2495792dde7fb986b0070",
            "90591cb95de143e1816346e362a3263d"
          ]
        },
        "id": "5phkVc7ZYnue",
        "outputId": "2e84ab75-dd92-4f88-9e05-ccbf30564f48"
      },
      "source": [
        "import ktrain\n",
        "from ktrain import text\n",
        "\n",
        "# Create Transformer model\n",
        "MODEL_NAME = 'xlnet-base-cased'\n",
        "t = text.Transformer(MODEL_NAME, maxlen=500, classes=['positive','negative'])\n",
        "trn = t.preprocess_train(X_train, y_train)\n",
        "val = t.preprocess_test(X_test, y_test)\n",
        "model = t.get_classifier()\n",
        "learner = ktrain.get_learner(model, train_data=trn, val_data=val, batch_size=6)"
      ],
      "execution_count": null,
      "outputs": [
        {
          "output_type": "stream",
          "text": [
            "/usr/local/lib/python3.6/dist-packages/ktrain/text/preprocessor.py:414: UserWarning: The class_names argument is replacing the classes argument. Please update your code.\n",
            "  warnings.warn('The class_names argument is replacing the classes argument. Please update your code.')\n"
          ],
          "name": "stderr"
        },
        {
          "output_type": "display_data",
          "data": {
            "application/vnd.jupyter.widget-view+json": {
              "model_id": "37af494f831e46d183709bc76c229d36",
              "version_minor": 0,
              "version_major": 2
            },
            "text/plain": [
              "HBox(children=(FloatProgress(value=0.0, description='Downloading', max=760.0, style=ProgressStyle(description_…"
            ]
          },
          "metadata": {
            "tags": []
          }
        },
        {
          "output_type": "stream",
          "text": [
            "\n",
            "preprocessing train...\n",
            "language: en\n",
            "train sequence lengths:\n",
            "\tmean : 235\n",
            "\t95percentile : 598\n",
            "\t99percentile : 894\n"
          ],
          "name": "stdout"
        },
        {
          "output_type": "display_data",
          "data": {
            "application/vnd.jupyter.widget-view+json": {
              "model_id": "c6375431175f4d50a53a520b6a0d8cc2",
              "version_minor": 0,
              "version_major": 2
            },
            "text/plain": [
              "HBox(children=(FloatProgress(value=0.0, description='Downloading', max=798011.0, style=ProgressStyle(descripti…"
            ]
          },
          "metadata": {
            "tags": []
          }
        },
        {
          "output_type": "stream",
          "text": [
            "\n"
          ],
          "name": "stdout"
        },
        {
          "output_type": "display_data",
          "data": {
            "text/html": [
              ""
            ],
            "text/plain": [
              "<IPython.core.display.HTML object>"
            ]
          },
          "metadata": {
            "tags": []
          }
        },
        {
          "output_type": "stream",
          "text": [
            "Is Multi-Label? False\n",
            "preprocessing test...\n",
            "language: en\n",
            "test sequence lengths:\n",
            "\tmean : 229\n",
            "\t95percentile : 577\n",
            "\t99percentile : 889\n"
          ],
          "name": "stdout"
        },
        {
          "output_type": "display_data",
          "data": {
            "text/html": [
              ""
            ],
            "text/plain": [
              "<IPython.core.display.HTML object>"
            ]
          },
          "metadata": {
            "tags": []
          }
        },
        {
          "output_type": "display_data",
          "data": {
            "application/vnd.jupyter.widget-view+json": {
              "model_id": "684096d42d854ad69c4028f1e7488583",
              "version_minor": 0,
              "version_major": 2
            },
            "text/plain": [
              "HBox(children=(FloatProgress(value=0.0, description='Downloading', max=565485600.0, style=ProgressStyle(descri…"
            ]
          },
          "metadata": {
            "tags": []
          }
        },
        {
          "output_type": "stream",
          "text": [
            "\n"
          ],
          "name": "stdout"
        }
      ]
    },
    {
      "cell_type": "markdown",
      "metadata": {
        "id": "3zxH_HqYAkwR"
      },
      "source": [
        "### 4.1 Model training\n",
        "\n",
        "Before training the model it is interesting to estimate a proper learning rate. This will save time on training and help optimization algorithm to converge.\n"
      ]
    },
    {
      "cell_type": "code",
      "metadata": {
        "id": "AkEfVRnkSeBv",
        "colab": {
          "base_uri": "https://localhost:8080/",
          "height": 436
        },
        "outputId": "69aeadad-0a2a-4edb-818b-8fab1921c753"
      },
      "source": [
        "# Estimate the Learning Rate\n",
        "learner.lr_find(show_plot=True, max_epochs=2)"
      ],
      "execution_count": null,
      "outputs": [
        {
          "output_type": "stream",
          "text": [
            "simulating training for different learning rates... this may take a few moments...\n",
            "Epoch 1/2\n",
            "2000/2000 [==============================] - 3299s 2s/step - loss: 0.4957 - accuracy: 0.7337\n",
            "Epoch 2/2\n",
            "2000/2000 [==============================] - 3273s 2s/step - loss: 4.9734 - accuracy: 0.4987\n",
            "\n",
            "\n",
            "done.\n",
            "Visually inspect loss plot and select learning rate associated with falling loss\n"
          ],
          "name": "stdout"
        },
        {
          "output_type": "display_data",
          "data": {
            "image/png": "[encoded data removed]",
            "text/plain": [
              "<Figure size 432x288 with 1 Axes>"
            ]
          },
          "metadata": {
            "tags": [],
            "needs_background": "light"
          }
        }
      ]
    },
    {
      "cell_type": "code",
      "metadata": {
        "colab": {
          "base_uri": "https://localhost:8080/"
        },
        "id": "IX5G3v4CBGO4",
        "outputId": "775b952f-b964-450a-90d5-d943e216dd1a"
      },
      "source": [
        "# Train the model\n",
        "learner.fit_onecycle(5e-5, 4)"
      ],
      "execution_count": null,
      "outputs": [
        {
          "output_type": "stream",
          "text": [
            "\n",
            "\n",
            "begin training using onecycle policy with max lr of 5e-05...\n",
            "Epoch 1/4\n",
            "2000/2000 [==============================] - 4570s 2s/step - loss: 0.2562 - accuracy: 0.9003 - val_loss: 0.2175 - val_accuracy: 0.9147\n",
            "Epoch 2/4\n",
            "2000/2000 [==============================] - 4569s 2s/step - loss: 0.1995 - accuracy: 0.9282 - val_loss: 0.3221 - val_accuracy: 0.8698\n",
            "Epoch 3/4\n",
            "2000/2000 [==============================] - 4574s 2s/step - loss: 0.1403 - accuracy: 0.9487 - val_loss: 0.1927 - val_accuracy: 0.9376\n",
            "Epoch 4/4\n",
            "2000/2000 [==============================] - 4575s 2s/step - loss: 0.0448 - accuracy: 0.9867 - val_loss: 0.2118 - val_accuracy: 0.9383\n"
          ],
          "name": "stdout"
        },
        {
          "output_type": "execute_result",
          "data": {
            "text/plain": [
              "<tensorflow.python.keras.callbacks.History at 0x7ff4d92d5be0>"
            ]
          },
          "metadata": {
            "tags": []
          },
          "execution_count": 21
        }
      ]
    },
    {
      "cell_type": "markdown",
      "metadata": {
        "id": "O02XaSPECEF1"
      },
      "source": [
        "### 4.2 Evaluate and Inspect the Model\n",
        "\n",
        "We can now evaluate the model on _Test_ subset."
      ]
    },
    {
      "cell_type": "code",
      "metadata": {
        "colab": {
          "background_save": true,
          "base_uri": "https://localhost:8080/"
        },
        "id": "a5xQApSBFwUI",
        "outputId": "2a8520b1-38ac-4aff-8a34-6a703baef294"
      },
      "source": [
        "learner.validate(class_names=t.get_classes())\n"
      ],
      "execution_count": null,
      "outputs": [
        {
          "output_type": "stream",
          "text": [
            "              precision    recall  f1-score   support\n",
            "\n",
            "    positive       0.94      0.94      0.94      6046\n",
            "    negative       0.93      0.94      0.94      5954\n",
            "\n",
            "    accuracy                           0.94     12000\n",
            "   macro avg       0.94      0.94      0.94     12000\n",
            "weighted avg       0.94      0.94      0.94     12000\n",
            "\n"
          ],
          "name": "stdout"
        },
        {
          "output_type": "execute_result",
          "data": {
            "text/plain": [
              "array([[5654,  392],\n",
              "       [ 349, 5605]])"
            ]
          },
          "metadata": {
            "tags": []
          },
          "execution_count": 0
        }
      ]
    },
    {
      "cell_type": "markdown",
      "metadata": {
        "id": "xYK5YTCqCRxR"
      },
      "source": [
        "As we can see the accuracy was quite good, i.e., 94%. Of course, there is room for improvement since the best score using this dataset is higher (available [here](https://www.kaggle.com/c/word2vec-nlp-tutorial/leaderboard)).\n",
        "\n",
        "Let's inspect the wrongest prediction."
      ]
    },
    {
      "cell_type": "code",
      "metadata": {
        "id": "-3BgzJJHF1Pj",
        "colab": {
          "base_uri": "https://localhost:8080/"
        },
        "outputId": "5ba26da6-9df8-40ef-a092-11d8facd9117"
      },
      "source": [
        "# Check on the prediction with the highest loss\n",
        "learner.view_top_losses(n=1, preproc=t)"
      ],
      "execution_count": null,
      "outputs": [
        {
          "output_type": "stream",
          "text": [
            "----------\n",
            "id:4979 | loss:7.24 | true:negative | pred:positive)\n",
            "\n"
          ],
          "name": "stdout"
        }
      ]
    },
    {
      "cell_type": "code",
      "metadata": {
        "id": "VaZ1FaddF1iI",
        "colab": {
          "base_uri": "https://localhost:8080/"
        },
        "outputId": "4cc076a6-aca8-4cd7-adeb-26c0a9ad286a"
      },
      "source": [
        "print(X_test[4979])"
      ],
      "execution_count": null,
      "outputs": [
        {
          "output_type": "stream",
          "text": [
            "Basically an endearingly chintzy and moronic 1.50 version of the nifty early 80's subterranean creature feature favorite The Boogens this entertainingly schlocky cheapie centers on a nasty squirmy wriggling monster who makes an instant meal out of any unfortunate souls foolhardy enough to go poking around the notoriously off limits Gold Spike Mine. Your standard issue motley assortment of intrepid boneheads hectoring hard nosed mine boss cute but insipid blonde babe feisty lady geologist boozy inexplicably Aussie accented ! seasoned old mine hand charmless doofus hunky jolly guy and arguably the most annoying character of the uniformly irritating bunch a nerdy bespectacled aspiring writer dweeb who's prone to speaking in flowery melodramatic utterances trek into the dark uninviting cave in search of gold. Naturally these intensely insufferable imbeciles discover that the allegedly abandoned mine is the home of a deadly ugly multi tentacled beast who in time honored hoary B flick fashion proceeds to gruesomely bag the group one at a time. Directed co written co produced and co edited with dumbfounding maladroitness by Melanie Anne Phillips acted with dismaying flatness by a rank no name cast further marred by lethargic pacing a drably meandering narrative murky under lit eye straining cinematography a shivery redundantly thudding pseudo John Carpenter synthesizer score and a cruddy herky jerky stop motion animation wormoid thingie that's only quickly glimpsed at the very end of the movie this extremely clunky amateurish and hence quite delectably dreadful would be scarefest commits all the necessary bad film missteps to qualify as a real four star stinkeroonie.\n"
          ],
          "name": "stdout"
        }
      ]
    },
    {
      "cell_type": "markdown",
      "metadata": {
        "id": "Vv9SvgPNIUCg"
      },
      "source": [
        "Now let's save the trained model."
      ]
    },
    {
      "cell_type": "code",
      "metadata": {
        "id": "1k2YXOKWF1z4"
      },
      "source": [
        "predictor = ktrain.get_predictor(learner.model, preproc=t)"
      ],
      "execution_count": null,
      "outputs": []
    },
    {
      "cell_type": "code",
      "metadata": {
        "id": "nboEHMYGGAgK"
      },
      "source": [
        "predictor.save('./content/drive/data/xlnet_predictor-v1_0')"
      ],
      "execution_count": null,
      "outputs": []
    },
    {
      "cell_type": "markdown",
      "metadata": {
        "id": "IlMl0u9SJuNY"
      },
      "source": [
        "### 4.3 Predict on unlabeled data\n",
        "\n",
        "The Stanford AI Lab data repository has also unlabeled data for clustering tasks. Let's select a sample and predict its sentiment."
      ]
    },
    {
      "cell_type": "code",
      "metadata": {
        "colab": {
          "base_uri": "https://localhost:8080/",
          "height": 35
        },
        "id": "FMt70fD7cUXk",
        "outputId": "341ec845-6a1d-462d-b6ad-e6a425908539"
      },
      "source": [
        "unlabeled = \"This is a very strange film that was long thought to be forgotten. It s the story of two American Army buddies, William Boyd (aka Hopalong Cassidy) and Louis Wolheim, and their adventures as they manage to escape from a German prison camp during WWI. However, as this is a comedy, the duo manage to make the most round about and stupid escape accidentally boarding a train to Constantinople to be placed in a Turkish prisoner of war camp! On the way, they manage to escape once again and end up in quite the adventure--meeting sexy Mary Astor along the way. As far as the film goes, it was a rather funny script and despite being a silly plot, it worked rather well. The chemistry between Boyd and Wolheim worked and the film managed to be quite entertaining. Oddly, however, the film managed to beat out Harold Lloyd's film, SPEEDY, for an Oscar for Best Direction for a Comedy (a category no longer used)--as SPEEDY was a superior film in most ways (it's one of Lloyd's best films). Still, it's well worth a look especially if you love silent films. By the way, director Milestone and Louis Walheim would team up just a few years later for another WWI picture, the great ALL QUIET ON THE WESTERN FRONT, a film that is definitely NOT a comedy.\"\n",
        "\n",
        "# Predict on unlabeled review\n",
        "predictor.predict(unlabeled)"
      ],
      "execution_count": null,
      "outputs": [
        {
          "output_type": "execute_result",
          "data": {
            "application/vnd.google.colaboratory.intrinsic+json": {
              "type": "string"
            },
            "text/plain": [
              "'negative'"
            ]
          },
          "metadata": {
            "tags": []
          },
          "execution_count": 35
        }
      ]
    },
    {
      "cell_type": "code",
      "metadata": {
        "id": "6e6zLwQ5VgYf",
        "colab": {
          "base_uri": "https://localhost:8080/"
        },
        "outputId": "99a1fede-cf1a-4e19-fd76-17189239386c"
      },
      "source": [
        "predictor.get_classes()"
      ],
      "execution_count": null,
      "outputs": [
        {
          "output_type": "execute_result",
          "data": {
            "text/plain": [
              "['positive', 'negative']"
            ]
          },
          "metadata": {
            "tags": []
          },
          "execution_count": 28
        }
      ]
    },
    {
      "cell_type": "code",
      "metadata": {
        "id": "D6Z4ybkOBuy2",
        "colab": {
          "base_uri": "https://localhost:8080/"
        },
        "outputId": "02984e22-d3a3-4cfb-ca06-455b4fabaea5"
      },
      "source": [
        "# Predict probability scores for each category\n",
        "predictor.predict_proba(unlabeled)"
      ],
      "execution_count": null,
      "outputs": [
        {
          "output_type": "execute_result",
          "data": {
            "text/plain": [
              "array([0.00286736, 0.99713266], dtype=float32)"
            ]
          },
          "metadata": {
            "tags": []
          },
          "execution_count": 34
        }
      ]
    },
    {
      "cell_type": "markdown",
      "metadata": {
        "id": "3zz2dZenLMI2"
      },
      "source": [
        "It is a lengthy text with some positive comments but also negative ones. Let's see what captured the model's attention to end up on a negative classification."
      ]
    },
    {
      "cell_type": "code",
      "metadata": {
        "id": "pGsKrQFqBvEX",
        "colab": {
          "base_uri": "https://localhost:8080/"
        },
        "outputId": "e25cd4a7-f9c4-416c-ae93-16b2b24dc4d0"
      },
      "source": [
        "!pip3 install -q git+https://github.com/amaiya/eli5@tfkeras_0_10_1"
      ],
      "execution_count": null,
      "outputs": [
        {
          "output_type": "stream",
          "text": [
            "  Building wheel for eli5 (setup.py) ... \u001b[?25l\u001b[?25hdone\n"
          ],
          "name": "stdout"
        }
      ]
    },
    {
      "cell_type": "code",
      "metadata": {
        "id": "0M8kYiZfY5F4"
      },
      "source": [
        "predictor.explain(unlabeled)"
      ],
      "execution_count": null,
      "outputs": []
    },
    {
      "cell_type": "markdown",
      "metadata": {
        "id": "wCLzyYawxOrH"
      },
      "source": [
        "![Screenshot from 2020-12-13 17-30-00.png](data:image/png;base64,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)"
      ]
    },
    {
      "cell_type": "markdown",
      "metadata": {
        "id": "wHfAzaYXMRbV"
      },
      "source": [
        "As we can see, the model perceived positive and negative words but in an unbalanced manner. Examples of negative ones like \"not\", \"far\", \"forgotten\", and \"stupid\" seemed to influence its decision."
      ]
    },
    {
      "cell_type": "markdown",
      "metadata": {
        "id": "xNIi3Ez-NgxF"
      },
      "source": [
        "## 5. Data Augmentation\n",
        "\n",
        "Now let's compare the previous model with a new one. This time trained in an augmented dataset. For this resort, we will use synonym replacement and expand the previous _Train_ subset by 50%."
      ]
    },
    {
      "cell_type": "code",
      "metadata": {
        "id": "cKsJYzBE2VbZ"
      },
      "source": [
        "!pip install textaugment"
      ],
      "execution_count": null,
      "outputs": []
    },
    {
      "cell_type": "code",
      "metadata": {
        "colab": {
          "base_uri": "https://localhost:8080/"
        },
        "id": "-Mgq8SQF2b41",
        "outputId": "64bfd0a8-fa45-4733-e9aa-630e00693780"
      },
      "source": [
        "from textaugment import EDA\n",
        "import nltk\n",
        "nltk.download(['stopwords','wordnet'])\n",
        "\n",
        "t = EDA(random_state=123)"
      ],
      "execution_count": null,
      "outputs": [
        {
          "output_type": "stream",
          "text": [
            "[nltk_data] Downloading package stopwords to /root/nltk_data...\n",
            "[nltk_data]   Unzipping corpora/stopwords.zip.\n",
            "[nltk_data] Downloading package wordnet to /root/nltk_data...\n",
            "[nltk_data]   Unzipping corpora/wordnet.zip.\n"
          ],
          "name": "stdout"
        }
      ]
    },
    {
      "cell_type": "markdown",
      "metadata": {
        "id": "4UD_we7rRrAK"
      },
      "source": [
        "Let's create a function to augment data and call it on _Train_ subset."
      ]
    },
    {
      "cell_type": "code",
      "metadata": {
        "id": "HOJEjv4P8g5N"
      },
      "source": [
        "import numpy as np\n",
        "\n",
        "# Define a function for data augmentation\n",
        "def eda(lis,arr,pct):\n",
        "  for i in range(0,int(len(lis)*pct)):\n",
        "    lis.append(t.synonym_replacement(lis[i])) # synonym replacement\n",
        "    arr = np.append(arr,arr[i])\n",
        "  return lis, arr"
      ],
      "execution_count": null,
      "outputs": []
    },
    {
      "cell_type": "code",
      "metadata": {
        "id": "YSZCGjLr6lKd"
      },
      "source": [
        "# Increase Train subset by 50% using EDA\n",
        "X_train, y_train = eda(X_train,y_train,0.5)"
      ],
      "execution_count": null,
      "outputs": []
    },
    {
      "cell_type": "code",
      "metadata": {
        "colab": {
          "base_uri": "https://localhost:8080/"
        },
        "id": "bP5xkc_YOUA0",
        "outputId": "55e1950a-e82c-4b49-f065-bcff17ee368d"
      },
      "source": [
        "# Check size of Train and Test subsets\n",
        "len(X_train), len(X_test)"
      ],
      "execution_count": null,
      "outputs": [
        {
          "output_type": "execute_result",
          "data": {
            "text/plain": [
              "(18000, 12000)"
            ]
          },
          "metadata": {
            "tags": []
          },
          "execution_count": 28
        }
      ]
    },
    {
      "cell_type": "markdown",
      "metadata": {
        "id": "13Pa9-3dR5QC"
      },
      "source": [
        "Again, let's shuffle rows."
      ]
    },
    {
      "cell_type": "code",
      "metadata": {
        "id": "YDMPMrBGOqNs"
      },
      "source": [
        "# Shuffle rows\n",
        "df_train = shuffle(df_train)\n",
        "df_test = shuffle(df_test)"
      ],
      "execution_count": null,
      "outputs": []
    },
    {
      "cell_type": "markdown",
      "metadata": {
        "id": "kxfHurmtSDGv"
      },
      "source": [
        "Time to build and train the new model."
      ]
    },
    {
      "cell_type": "code",
      "metadata": {
        "colab": {
          "base_uri": "https://localhost:8080/",
          "height": 419,
          "referenced_widgets": [
            "3ea4929f3c3a45cdb3ec7da249dd19a7",
            "7c23b234b9014fd89ef2a1793dd6a920",
            "0bfe6030c10149259501c638812efd4a",
            "3696ef2a56bb4c11863529aeee6e2f11",
            "00fbc866dc784c04847dbe055b66bf6f",
            "1da5acd85f3f4070b034eade954de463",
            "8f1a1d193a404dd786a3c8e4619d20a5",
            "bf7405c6623344e4b9a241133ce13cc1",
            "82c93fdecb774011895c3fb862b0a786",
            "d729bb33de6049d5b74a59b4cbfd0bbd",
            "238af0df4c11418ab48b083f4c10f68f",
            "e48ca53a31f14659b87c5fb796c308c5",
            "7df2fb2d7682452888217c81093b0dca",
            "739af079a9284fd4b6beea4cb9fa26d8",
            "bc82de3352f6451092b3a134044c5cca",
            "5ce7e4470e0e47bdba9f75dd9027b07d",
            "944819f9a2334733874ac95c66fc9ac8",
            "307a462e98764908ac5a323557de26b6",
            "45e800bc4dc0483fbb774d4676ee3246",
            "f114a81f718a49cbbf747c1e5f74dec8",
            "e6529c544b314077bdf9a45b94ec5c68",
            "cd378b2e4fca4774ab831ebba39ad3ad",
            "dcd2ae8838c7457a9cda1aa5dc54853b",
            "e892fc141e58488ca43c4fe70f7df270"
          ]
        },
        "id": "PCuGs-Sj3dvi",
        "outputId": "fce0dfc7-587f-489d-f0fe-97867fe73a8f"
      },
      "source": [
        "# Create new Transformer model\n",
        "MODEL_NAME = 'xlnet-base-cased'\n",
        "t = text.Transformer(MODEL_NAME, maxlen=500, classes=['positive','negative'])\n",
        "trn = t.preprocess_train(X_train, y_train)\n",
        "val = t.preprocess_test(X_test, y_test)\n",
        "model = t.get_classifier()\n",
        "learner = ktrain.get_learner(model, train_data=trn, val_data=val, batch_size=6)"
      ],
      "execution_count": null,
      "outputs": [
        {
          "output_type": "stream",
          "text": [
            "/usr/local/lib/python3.6/dist-packages/ktrain/text/preprocessor.py:414: UserWarning: The class_names argument is replacing the classes argument. Please update your code.\n",
            "  warnings.warn('The class_names argument is replacing the classes argument. Please update your code.')\n"
          ],
          "name": "stderr"
        },
        {
          "output_type": "display_data",
          "data": {
            "application/vnd.jupyter.widget-view+json": {
              "model_id": "3ea4929f3c3a45cdb3ec7da249dd19a7",
              "version_minor": 0,
              "version_major": 2
            },
            "text/plain": [
              "HBox(children=(FloatProgress(value=0.0, description='Downloading', max=760.0, style=ProgressStyle(description_…"
            ]
          },
          "metadata": {
            "tags": []
          }
        },
        {
          "output_type": "stream",
          "text": [
            "\n",
            "preprocessing train...\n",
            "language: en\n",
            "train sequence lengths:\n",
            "\tmean : 232\n",
            "\t95percentile : 596\n",
            "\t99percentile : 900\n"
          ],
          "name": "stdout"
        },
        {
          "output_type": "display_data",
          "data": {
            "application/vnd.jupyter.widget-view+json": {
              "model_id": "82c93fdecb774011895c3fb862b0a786",
              "version_minor": 0,
              "version_major": 2
            },
            "text/plain": [
              "HBox(children=(FloatProgress(value=0.0, description='Downloading', max=798011.0, style=ProgressStyle(descripti…"
            ]
          },
          "metadata": {
            "tags": []
          }
        },
        {
          "output_type": "stream",
          "text": [
            "\n"
          ],
          "name": "stdout"
        },
        {
          "output_type": "display_data",
          "data": {
            "text/html": [
              ""
            ],
            "text/plain": [
              "<IPython.core.display.HTML object>"
            ]
          },
          "metadata": {
            "tags": []
          }
        },
        {
          "output_type": "stream",
          "text": [
            "Is Multi-Label? False\n",
            "preprocessing test...\n",
            "language: en\n",
            "test sequence lengths:\n",
            "\tmean : 230\n",
            "\t95percentile : 588\n",
            "\t99percentile : 890\n"
          ],
          "name": "stdout"
        },
        {
          "output_type": "display_data",
          "data": {
            "text/html": [
              ""
            ],
            "text/plain": [
              "<IPython.core.display.HTML object>"
            ]
          },
          "metadata": {
            "tags": []
          }
        },
        {
          "output_type": "display_data",
          "data": {
            "application/vnd.jupyter.widget-view+json": {
              "model_id": "944819f9a2334733874ac95c66fc9ac8",
              "version_minor": 0,
              "version_major": 2
            },
            "text/plain": [
              "HBox(children=(FloatProgress(value=0.0, description='Downloading', max=565485600.0, style=ProgressStyle(descri…"
            ]
          },
          "metadata": {
            "tags": []
          }
        },
        {
          "output_type": "stream",
          "text": [
            "\n"
          ],
          "name": "stdout"
        }
      ]
    },
    {
      "cell_type": "code",
      "metadata": {
        "colab": {
          "base_uri": "https://localhost:8080/"
        },
        "id": "8IucbmwgyEDW",
        "outputId": "c11cb4d8-69d4-478a-bb84-3772ff1d75eb"
      },
      "source": [
        "# Train the new model\n",
        "learner.fit_onecycle(5e-5, 4)"
      ],
      "execution_count": null,
      "outputs": [
        {
          "output_type": "stream",
          "text": [
            "\n",
            "\n",
            "begin training using onecycle policy with max lr of 5e-05...\n",
            "Epoch 1/4\n",
            "3000/3000 [==============================] - 6204s 2s/step - loss: 0.2137 - accuracy: 0.9175 - val_loss: 0.2045 - val_accuracy: 0.9245\n",
            "Epoch 2/4\n",
            "3000/3000 [==============================] - 6207s 2s/step - loss: 0.1580 - accuracy: 0.9451 - val_loss: 0.1954 - val_accuracy: 0.9287\n",
            "Epoch 3/4\n",
            "3000/3000 [==============================] - 6208s 2s/step - loss: 0.1095 - accuracy: 0.9628 - val_loss: 0.2296 - val_accuracy: 0.9352\n",
            "Epoch 4/4\n",
            "3000/3000 [==============================] - 6210s 2s/step - loss: 0.0295 - accuracy: 0.9918 - val_loss: 0.2458 - val_accuracy: 0.9376\n"
          ],
          "name": "stdout"
        },
        {
          "output_type": "execute_result",
          "data": {
            "text/plain": [
              "<tensorflow.python.keras.callbacks.History at 0x7f96b8e76f98>"
            ]
          },
          "metadata": {
            "tags": []
          },
          "execution_count": 31
        }
      ]
    },
    {
      "cell_type": "markdown",
      "metadata": {
        "id": "kL1V6wKYKQHt"
      },
      "source": [
        "### 5.1 Evaluate new Model\n",
        "\n",
        "Now let's evaluate the new model on _Test_ subset."
      ]
    },
    {
      "cell_type": "code",
      "metadata": {
        "id": "RRYJMmWDKQH7",
        "colab": {
          "base_uri": "https://localhost:8080/"
        },
        "outputId": "aacbdc9d-ced1-4bba-fdd7-3c9314405879"
      },
      "source": [
        "learner.validate(class_names=t.get_classes())"
      ],
      "execution_count": null,
      "outputs": [
        {
          "output_type": "stream",
          "text": [
            "              precision    recall  f1-score   support\n",
            "\n",
            "    positive       0.94      0.94      0.94      6044\n",
            "    negative       0.94      0.94      0.94      5956\n",
            "\n",
            "    accuracy                           0.94     12000\n",
            "   macro avg       0.94      0.94      0.94     12000\n",
            "weighted avg       0.94      0.94      0.94     12000\n",
            "\n"
          ],
          "name": "stdout"
        },
        {
          "output_type": "execute_result",
          "data": {
            "text/plain": [
              "array([[5665,  379],\n",
              "       [ 370, 5586]])"
            ]
          },
          "metadata": {
            "tags": []
          },
          "execution_count": 32
        }
      ]
    },
    {
      "cell_type": "markdown",
      "metadata": {
        "id": "P6el7nBgklMw"
      },
      "source": [
        "As we can see from previous result, accuracy did not change. \n",
        "\n",
        "Let's inspect the wrongest prediction."
      ]
    },
    {
      "cell_type": "code",
      "metadata": {
        "id": "U-CPWu2SKWA3",
        "colab": {
          "base_uri": "https://localhost:8080/"
        },
        "outputId": "db145eed-7058-4b7d-e2bc-f6cd240e5daa"
      },
      "source": [
        "# Check on the prediction with the highest loss\n",
        "learner.view_top_losses(n=1, preproc=t)"
      ],
      "execution_count": null,
      "outputs": [
        {
          "output_type": "stream",
          "text": [
            "----------\n",
            "id:3722 | loss:7.99 | true:positive | pred:negative)\n",
            "\n"
          ],
          "name": "stdout"
        }
      ]
    },
    {
      "cell_type": "code",
      "metadata": {
        "id": "OyzUsNXTKWn9",
        "colab": {
          "base_uri": "https://localhost:8080/"
        },
        "outputId": "728b3d49-72c5-4d3c-8695-3ceefa49c0e4"
      },
      "source": [
        "print(X_test[3722])"
      ],
      "execution_count": null,
      "outputs": [
        {
          "output_type": "stream",
          "text": [
            "Nice movie and Nicholle Tom does a fantastic job playing the guy in the girl's body she really does it well. A sort of teen version of many other movies but well done. Well casted from Matt to Matt2 .\n"
          ],
          "name": "stdout"
        }
      ]
    },
    {
      "cell_type": "code",
      "metadata": {
        "colab": {
          "base_uri": "https://localhost:8080/"
        },
        "id": "JYrP-ppgP4di",
        "outputId": "6f7ea6c3-0022-45d3-cb9a-b18a8dfa603c"
      },
      "source": [
        "predictor.get_classes()"
      ],
      "execution_count": null,
      "outputs": [
        {
          "output_type": "execute_result",
          "data": {
            "text/plain": [
              "['positive', 'negative']"
            ]
          },
          "metadata": {
            "tags": []
          },
          "execution_count": 37
        }
      ]
    },
    {
      "cell_type": "code",
      "metadata": {
        "colab": {
          "base_uri": "https://localhost:8080/"
        },
        "id": "LBAgSjiu9qhG",
        "outputId": "fc319495-afc2-4f56-cc8f-1716f4df7d68"
      },
      "source": [
        "# Predict probability scores for each category\n",
        "predictor.predict_proba(X_test[3722])"
      ],
      "execution_count": null,
      "outputs": [
        {
          "output_type": "execute_result",
          "data": {
            "text/plain": [
              "array([3.3855438e-04, 9.9966145e-01], dtype=float32)"
            ]
          },
          "metadata": {
            "tags": []
          },
          "execution_count": 54
        }
      ]
    },
    {
      "cell_type": "markdown",
      "metadata": {
        "id": "uUIxRnl3l-VM"
      },
      "source": [
        "As we see from the classes probabilities, the model computed the sentiment as _negative_ with a very high likelihood. Let's check which features contributed with that."
      ]
    },
    {
      "cell_type": "code",
      "metadata": {
        "id": "EMVqIsvp8ki_"
      },
      "source": [
        "predictor.explain(X_test[3722])"
      ],
      "execution_count": null,
      "outputs": []
    },
    {
      "cell_type": "markdown",
      "metadata": {
        "id": "6a8ZPNWEubpc"
      },
      "source": [
        "![Screenshot from 2020-12-13 17-15-32.png](data:image/png;base64,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)"
      ]
    },
    {
      "cell_type": "markdown",
      "metadata": {
        "id": "upPhFXJcXMb7"
      },
      "source": [
        "This is an interesting case since the top features are clearly mostly positive ones. However, the model classified the review as _negative_. We may be facing a weakness or bias in the model and might be investigated afterward."
      ]
    },
    {
      "cell_type": "markdown",
      "metadata": {
        "id": "pKn6ArRUXxf2"
      },
      "source": [
        "## 6. Conclusion\n",
        "\n",
        "In this mini-project, we dealt with a classification task to capture sentiment on movie text reviews. For such, It was used a popular dataset made available by Standford AI Lab and composed of labeled _Train_ and _Test_ subsets with 25,000 observations each.\n",
        "\n",
        "After performing some wrangling with the data we reduced it by half to save computational resources during training and testing. In the sequence, we augmented such data with an EDA technique, namely synonym substitution.\n",
        "\n",
        "In end, the performance of the model did not improve (or worsened). The accuracy value itself was not too far from what are best results achieved with the same dataset and goal."
      ]
    }
  ]
}
